{
  "cells": [
    {
      "cell_type": "markdown",
      "metadata": {
        "id": "view-in-github",
        "colab_type": "text"
      },
      "source": [
        "<a href=\"https://colab.research.google.com/github/takatakamanbou/AdvML/blob/2024/AdvML2024_reportC.ipynb\" target=\"_parent\"><img src=\"https://colab.research.google.com/assets/colab-badge.svg\" alt=\"Open In Colab\"/></a>"
      ]
    },
    {
      "cell_type": "markdown",
      "metadata": {
        "id": "2UzDNLmVS3po"
      },
      "source": [
        "# AdvML reportC\n",
        "\n",
        "<img width=72 src=\"https://www-tlab.math.ryukoku.ac.jp/~takataka/course/AdvML/AdvML-logo.png\"> [この授業のウェブページ](https://www-tlab.math.ryukoku.ac.jp/wiki/?AdvML)\n",
        "\n",
        "\n"
      ]
    },
    {
      "cell_type": "markdown",
      "metadata": {
        "id": "gQ0oDxG3iygx"
      },
      "source": [
        "----\n",
        "## 準備\n",
        "----\n"
      ]
    },
    {
      "cell_type": "code",
      "source": [
        "# 準備あれこれ\n",
        "import numpy as np\n",
        "import matplotlib.pyplot as plt\n",
        "import pandas as pd\n",
        "import seaborn\n",
        "seaborn.set()\n",
        "\n",
        "from scipy.stats import multivariate_normal\n",
        "\n",
        "# scikit-learn のいろいろ\n",
        "from sklearn.datasets import make_moons, fetch_openml\n",
        "from sklearn.model_selection import train_test_split\n",
        "from sklearn.mixture import GaussianMixture"
      ],
      "metadata": {
        "id": "RjLTO96x2EvK"
      },
      "execution_count": null,
      "outputs": []
    },
    {
      "cell_type": "markdown",
      "source": [
        "---\n",
        "## GMMによる生成モデルを用いた2次元データの識別\n",
        "---"
      ],
      "metadata": {
        "id": "ftIeO1DxmWgO"
      }
    },
    {
      "cell_type": "markdown",
      "source": [
        "2次元2クラスのデータのクラスごとの分布に GMM を当てはめて識別する実験をやってみよう．"
      ],
      "metadata": {
        "id": "7qyvaE1QoWv6"
      }
    },
    {
      "cell_type": "code",
      "source": [
        "# データの生成\n",
        "moonX, moonY = make_moons(n_samples=200, noise=0.25, random_state=5963)\n",
        "xmin, xmax = -2, 3\n",
        "ymin, ymax = -2.5, 2.5\n",
        "NL = len(moonX)\n",
        "K = 2\n",
        "\n",
        "# グラフを描く\n",
        "fig, ax = plt.subplots()\n",
        "ax.scatter(moonX[moonY==0, 0], moonX[moonY==0, 1])\n",
        "ax.scatter(moonX[moonY==1, 0], moonX[moonY==1, 1])\n",
        "ax.set_xlim(xmin, xmax)\n",
        "ax.set_ylim(ymin, ymax)\n",
        "ax.set_aspect('equal')\n",
        "plt.show()"
      ],
      "metadata": {
        "id": "5Jg25JlHnaLB"
      },
      "execution_count": null,
      "outputs": []
    },
    {
      "cell_type": "markdown",
      "source": [
        "次のコードセルを実行すると，クラスごとのデータに GMM を当てはめる．\n",
        "- 変数 `covtype` は，GMM を構成する正規分布の分散共分散行列の形を指定する．詳細は [sklearn.mixture.GaussianMixture](https://scikit-learn.org/stable/modules/generated/sklearn.mixture.GaussianMixture.html) 参照．\n",
        "- 変数 `M` は，GMM の正規分布の数を指定する．"
      ],
      "metadata": {
        "id": "r_B6Ueijoyjj"
      }
    },
    {
      "cell_type": "code",
      "source": [
        "covtype = 'full'\n",
        "M = 2\n",
        "\n",
        "py = np.empty(K)\n",
        "gmm = np.empty(K, dtype=object)\n",
        "for k in range(K):\n",
        "    py[k] = np.sum(moonY == k) / NL\n",
        "    gmm[k] = GaussianMixture(n_components=M, covariance_type=covtype)\n",
        "    gmm[k].fit(moonX[moonY == k, :])"
      ],
      "metadata": {
        "id": "nbfWFk8Gn6d9"
      },
      "execution_count": null,
      "outputs": []
    },
    {
      "cell_type": "markdown",
      "source": [
        "次のコードセルを実行すると，推定された GMM の正規分布をデータに重ねて表示（左）するとともに，その GMM を用いて得られるクラス事後確率の値を可視化する（右）．"
      ],
      "metadata": {
        "id": "TIvuuvXhp6uZ"
      }
    },
    {
      "cell_type": "code",
      "source": [
        "# グラフ描画用のグリッドデータの作成\n",
        "x_mesh, y_mesh = np.mgrid[xmin:xmax:(xmax-xmin)/100, ymin:ymax:(ymax-ymin)/100]\n",
        "X_mesh = np.dstack((x_mesh, y_mesh))\n",
        "\n",
        "# 事後確率の推定\n",
        "p = np.empty((K, X_mesh.shape[0]*X_mesh.shape[1]))\n",
        "for k in range(K):\n",
        "    logp = gmm[k].score_samples(X_mesh.reshape((-1, 2)))\n",
        "    p[k, :] = py[k] * np.exp(logp)\n",
        "p /= np.sum(p, axis=0)\n",
        "pp = p.reshape((K, X_mesh.shape[0], X_mesh.shape[1]))\n",
        "\n",
        "# グラフ\n",
        "fig = plt.figure(figsize=(9, 6))\n",
        "cmap = ['Blues', 'Oranges', 'Greens']\n",
        "\n",
        "# Gaussian を当てはめた結果\n",
        "colors= ['blue', 'orange', 'green']\n",
        "ax0 = fig.add_subplot(121)\n",
        "for k in range(K):\n",
        "    ax0.scatter(moonX[moonY==k, 0], moonX[moonY==k, 1])\n",
        "    for m in range(M):\n",
        "        mu = gmm[k].means_[m, :]\n",
        "        if covtype == 'spherical':\n",
        "            cov = gmm[k].covariances_[m] * np.eye(2)\n",
        "        else:\n",
        "            cov = gmm[k].covariances_[m, ::]\n",
        "        ax0.contour(x_mesh, y_mesh, multivariate_normal.pdf(X_mesh, mean=mu, cov=cov), colors=colors[k], alpha=0.5)\n",
        "\n",
        "ax0.set_xlim(xmin, xmax)\n",
        "ax0.set_ylim(ymin, ymax)\n",
        "ax0.set_aspect('equal')\n",
        "\n",
        "# 事後確率の可視化\n",
        "cmap = ['Blues', 'Oranges', 'Greens']\n",
        "ax1 = fig.add_subplot(122)\n",
        "for k in range(K):\n",
        "    ax1.scatter(moonX[moonY==k, 0], moonX[moonY==k, 1])\n",
        "    ax1.contourf(x_mesh, y_mesh, pp[k], levels=[0.4, 0.5, 0.6, 0.7, 0.8, 0.9, 1.0], cmap=cmap[k], alpha=0.3)\n",
        "ax1.set_xlim(xmin, xmax)\n",
        "ax1.set_ylim(ymin, ymax)\n",
        "ax1.set_aspect('equal')\n",
        "\n",
        "plt.show()"
      ],
      "metadata": {
        "id": "qKxZe8bmoLVq"
      },
      "execution_count": null,
      "outputs": []
    },
    {
      "cell_type": "markdown",
      "source": [
        "#### 問題1\n",
        "\n",
        "`covtype` を `'full'`, `'diag'`, `'spherical'` の3通りで変えるとともに `M` を適当に変えて実験を行い，結果と考察をこのセルに書き込みなさい．\n",
        "`covtype` を変えると何がどのように変わるのかも記すこと．\n"
      ],
      "metadata": {
        "id": "hV3Xb4IXqmsc"
      }
    },
    {
      "cell_type": "markdown",
      "source": [
        "---\n",
        "## GMMによる生成モデルを用いた手書き数字画像の識別\n",
        "---"
      ],
      "metadata": {
        "id": "PXNG3xqpsoHz"
      }
    },
    {
      "cell_type": "markdown",
      "source": [
        "以前も用いたことのある，MNIST という手書き数字画像データセットの一部を用いる．"
      ],
      "metadata": {
        "id": "Jdlfe73xsyPM"
      }
    },
    {
      "cell_type": "code",
      "source": [
        "# MNIST データセットの入手\n",
        "Xraw, yraw = fetch_openml('mnist_784', version=1, parser='auto', return_X_y=True, as_frame=False)\n",
        "Xall = Xraw[:20000] / 255.0     # 画素値が [0, 255] の整数値なので [0, 1] の浮動小数点数値に変換\n",
        "yall = yraw[:20000].astype(int) # クラスラベル．0 から 9 の整数値\n",
        "\n",
        "# 学習データとテストデータの分割\n",
        "XL, XT, yL, yT = train_test_split(Xall, yall, test_size=4000, random_state=4649, stratify=yall)\n",
        "print(XL.shape, yL.shape)\n",
        "print(XT.shape, yT.shape)\n",
        "NL, NT = len(XL), len(XT)\n",
        "\n",
        "K = 10"
      ],
      "metadata": {
        "id": "2aajL46Mqn6T"
      },
      "execution_count": null,
      "outputs": []
    },
    {
      "cell_type": "markdown",
      "source": [
        "---\n",
        "### 実験1"
      ],
      "metadata": {
        "id": "o3JryVxyyL7O"
      }
    },
    {
      "cell_type": "markdown",
      "source": [
        "次のセルを実行すると，クラスごとのデータに mixture 数（混合数，用いる正規分布の数） 4 の GMMを当てはめて，推定されたパラメータの一部を可視化する．"
      ],
      "metadata": {
        "id": "04SYnNn0ySlU"
      }
    },
    {
      "cell_type": "code",
      "source": [
        "M = 4\n",
        "\n",
        "fig, ax = plt.subplots(M, K, figsize=(8, 8/K*M))\n",
        "for k in range(K):\n",
        "    gmm = GaussianMixture(n_components=M, covariance_type='full')\n",
        "    gmm.fit(XL[yL == k, :])\n",
        "    for m in range(M):\n",
        "        img = gmm.means_[m, :].reshape((28, 28))\n",
        "        ax[m, k].imshow(img, cmap=plt.cm.gray, vmin=0, vmax=1)\n",
        "        ax[m, k].axis('off')\n",
        "\n",
        "plt.show()"
      ],
      "metadata": {
        "id": "nFQXuzT1wma8"
      },
      "execution_count": null,
      "outputs": []
    },
    {
      "cell_type": "markdown",
      "source": [
        "#### 問題2\n",
        "\n",
        "この図がどんなパラメータを可視化したものになっているのかをこのセルに書き込みなさい．"
      ],
      "metadata": {
        "id": "skJN-afJwlQp"
      }
    },
    {
      "cell_type": "markdown",
      "source": [
        "---\n",
        "### 実験2"
      ],
      "metadata": {
        "id": "f4ugiOfHynN-"
      }
    },
    {
      "cell_type": "markdown",
      "source": [
        "次の2つのコードセルを実行すると，クラスごとのデータに mixture 数 `M` の GMM を当てはめ，それを用いて学習データとテストデータを識別させたときの正答率を算出する．"
      ],
      "metadata": {
        "id": "PAanWhuc2elQ"
      }
    },
    {
      "cell_type": "code",
      "source": [
        "# 学習\n",
        "M = 2\n",
        "py = np.empty(K)\n",
        "gmm = np.empty(K, dtype=object)\n",
        "for k in range(K):\n",
        "    print(f'##### class{k} #####')\n",
        "    py[k] = np.sum(yL == k) / NL  ### (a)\n",
        "    gmm[k] = GaussianMixture(n_components=M, covariance_type='full', verbose=2, verbose_interval=1)\n",
        "    gmm[k].fit(XL[yL == k, :])\n",
        "    print()"
      ],
      "metadata": {
        "id": "-u3qtw-cyviv"
      },
      "execution_count": null,
      "outputs": []
    },
    {
      "cell_type": "code",
      "source": [
        "# 学習データの識別\n",
        "LL = np.empty((NL, K))\n",
        "for k in range(K):\n",
        "    LL[:, k] = gmm[k].score_samples(XL) + np.log(py[k])\n",
        "yL_pred = np.argmax(LL, axis=1)\n",
        "countL = np.sum(yL_pred == yL)\n",
        "\n",
        "# テストデータの識別\n",
        "LT = np.empty((NT, K))\n",
        "for k in range(K):\n",
        "    LT[:, k] = gmm[k].score_samples(XT) + np.log(py[k])  ### (b)\n",
        "yT_pred = np.argmax(LT, axis=1)   ### (c)\n",
        "countT = np.sum(yT_pred == yT)\n",
        "\n",
        "# 結果の表示\n",
        "print(f'M = {M}   train: {countL}/{NL} = {countL/NL:.3f}   test: {countT}/{NT} = {countT/NT:.3f}')"
      ],
      "metadata": {
        "id": "PNoPIFcS2x5t"
      },
      "execution_count": null,
      "outputs": []
    },
    {
      "cell_type": "markdown",
      "source": [
        "#### 問題3\n",
        "\n",
        "上記コードセル中の `### (a)`, `### (b)`, `### (c)` というコメントがついた行がそれぞれ何を計算しているかを考え，このコードセルに書き込みなさい．"
      ],
      "metadata": {
        "id": "6kEnl8Bj5VsE"
      }
    },
    {
      "cell_type": "markdown",
      "source": [
        "次の問題のために，以下のことをやりなさい：\n",
        "\n",
        "1. 実験2のコードセルを， `M` を 1 から 5 まで変えて実行し，得られた識別率の値をこの notebook 中に適当な形式でメモしておく（注）．\n",
        "1. `GaussianMixture` の `covariance_type` を `'diag'` にして ↑ と同様のことを行う．ただし， `M` は 1 から 5 に限らず，より大きな値も試そう．\n",
        "1. `GaussianMixture` の `covariance_type` を `'spherical'` にして...以下同文．\n",
        "\n",
        "注: EMアルゴリズムによる GMM の当てはめでは，推定されるパラメータの値は，その初期値の選び方によって\n",
        "変わります．そのため，一つの実験条件でも実験を複数回行うのが適切です．\n",
        "しかし，計算量が多く実験に時間がかかるため，ここでは一つの実験条件での GMM の当てはめは一度だけでよいものとします．"
      ],
      "metadata": {
        "id": "NqlKQs4I6ocy"
      }
    },
    {
      "cell_type": "markdown",
      "source": [
        "#### 問題4\n",
        "\n",
        "↑で行った実験の結果を示し，考察を記しなさい．必要なら複数のテキストセルを作ったらよい．"
      ],
      "metadata": {
        "id": "dGBXNIM39TW8"
      }
    }
  ],
  "metadata": {
    "colab": {
      "provenance": [],
      "toc_visible": true,
      "include_colab_link": true
    },
    "kernelspec": {
      "display_name": "Python 3",
      "name": "python3"
    },
    "language_info": {
      "codemirror_mode": {
        "name": "ipython",
        "version": 3
      },
      "file_extension": ".py",
      "mimetype": "text/x-python",
      "name": "python",
      "nbconvert_exporter": "python",
      "pygments_lexer": "ipython3",
      "version": "3.9.7"
    }
  },
  "nbformat": 4,
  "nbformat_minor": 0
}