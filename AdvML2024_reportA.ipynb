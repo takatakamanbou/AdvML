{
  "cells": [
    {
      "cell_type": "markdown",
      "metadata": {
        "id": "view-in-github",
        "colab_type": "text"
      },
      "source": [
        "<a href=\"https://colab.research.google.com/github/takatakamanbou/AdvML/blob/2024/AdvML2024_reportA.ipynb\" target=\"_parent\"><img src=\"https://colab.research.google.com/assets/colab-badge.svg\" alt=\"Open In Colab\"/></a>"
      ]
    },
    {
      "cell_type": "markdown",
      "metadata": {
        "id": "2UzDNLmVS3po"
      },
      "source": [
        "# AdvML reportA\n",
        "\n",
        "<img width=72 src=\"https://www-tlab.math.ryukoku.ac.jp/~takataka/course/AdvML/AdvML-logo.png\"> [この授業のウェブページ](https://www-tlab.math.ryukoku.ac.jp/wiki/?AdvML)\n",
        "\n",
        "\n"
      ]
    },
    {
      "cell_type": "markdown",
      "metadata": {
        "id": "gQ0oDxG3iygx"
      },
      "source": [
        "----\n",
        "## 準備\n",
        "----\n"
      ]
    },
    {
      "cell_type": "code",
      "source": [
        "# 準備あれこれ\n",
        "import numpy as np\n",
        "import matplotlib.pyplot as plt\n",
        "import pandas as pd\n",
        "import seaborn\n",
        "seaborn.set()\n",
        "\n",
        "# scikit-learn のいろいろ\n",
        "from sklearn.datasets import fetch_california_housing\n",
        "from sklearn.model_selection import train_test_split\n",
        "from sklearn.preprocessing import StandardScaler\n",
        "from sklearn.neural_network import MLPRegressor"
      ],
      "metadata": {
        "id": "RjLTO96x2EvK"
      },
      "execution_count": null,
      "outputs": []
    },
    {
      "cell_type": "markdown",
      "source": [
        "---\n",
        "### California Housing Dataset"
      ],
      "metadata": {
        "id": "bZ5xMLN6CDtJ"
      }
    },
    {
      "cell_type": "markdown",
      "source": [
        "この課題では，California housing dataset というデータセットを使う．\n",
        "これは，アメリカカリフォルニアの住宅価格を予測するという回帰問題のデータセットである．\n",
        "\n",
        "参考\n",
        "- https://scikit-learn.org/stable/datasets/real_world.html#california-housing-dataset\n",
        "- https://atmarkit.itmedia.co.jp/ait/articles/2201/31/news042.html\n"
      ],
      "metadata": {
        "id": "dr3hs6hH6NI4"
      }
    },
    {
      "cell_type": "markdown",
      "source": [
        "#### データの入手"
      ],
      "metadata": {
        "id": "Ux3a5y8VHKbF"
      }
    },
    {
      "cell_type": "markdown",
      "source": [
        "scikit-learn の [sklearn.datasets.fetch_california_housing](https://scikit-learn.org/stable/modules/generated/sklearn.datasets.fetch_california_housing.html) 関数を呼ぶと，このデータセットを入手できる．"
      ],
      "metadata": {
        "id": "nc_WPkZ_GGdw"
      }
    },
    {
      "cell_type": "code",
      "source": [
        "# as_frame を True にすると pandas.DataFrame 形式で取得できる\n",
        "data = fetch_california_housing(as_frame=True)\n",
        "dfX = data['data']\n",
        "dfX"
      ],
      "metadata": {
        "id": "UUuJmhmY95lq"
      },
      "execution_count": null,
      "outputs": []
    },
    {
      "cell_type": "markdown",
      "source": [
        "見て分かるように，8つの値から成るデータが20640件ある．これらは回帰モデルへの入力となる．\n",
        "1件のデータは，一定の領域内に存在する住宅および住人について求めた次の8つの値から成る（詳細は↑の参考リンク先参照）．\n",
        "\n",
        "1. MedInc: 所得\n",
        "1. HouseAge: 築年数\n",
        "1. AveRooms: 部屋数\n",
        "1. AveBedrms: 寝室数\n",
        "1. Population: 人口\n",
        "1. AveOccup: 世帯数\n",
        "1. Latitude: 緯度\n",
        "1. Longitude: 経度\n",
        "\n",
        "予測対象となる住宅価格は，次のような値である．"
      ],
      "metadata": {
        "id": "s3WEaZ8QGqC1"
      }
    },
    {
      "cell_type": "code",
      "source": [
        "dfY = data['target']\n",
        "dfY"
      ],
      "metadata": {
        "id": "BFGZeuRQUPha"
      },
      "execution_count": null,
      "outputs": []
    },
    {
      "cell_type": "markdown",
      "source": [
        "#### 学習データと検証データの分割"
      ],
      "metadata": {
        "id": "0Rl8SRgoHN92"
      }
    },
    {
      "cell_type": "markdown",
      "source": [
        "\n",
        "[sklearn.model_selection.train_test_split](https://scikit-learn.org/stable/modules/generated/sklearn.model_selection.train_test_split.html) を使って学習データと検証データに分割する．\n",
        "\n",
        "\n"
      ],
      "metadata": {
        "id": "m-E5ioBnHbP-"
      }
    },
    {
      "cell_type": "code",
      "source": [
        "# 全データの 8 割を学習データとし，残りを検証データとする\n",
        "#   random_state を指定しなければ実行のたびに分割の仕方が変わるので毎回異なる実験結果となるが，\n",
        "#   ここでは一つの値に固定しているで，何度やっても（当然，誰がやっても）同じ条件で実験できる\n",
        "XL, XV, yL, yV = train_test_split(dfX.to_numpy(), dfY.to_numpy(), train_size=0.8, random_state=0)\n",
        "print(XL.shape, yL.shape, XV.shape, yV.shape)"
      ],
      "metadata": {
        "id": "MvfFn0Uy6pYl"
      },
      "execution_count": null,
      "outputs": []
    },
    {
      "cell_type": "markdown",
      "source": [
        "#### 前処理"
      ],
      "metadata": {
        "id": "IEFKZrx8IAag"
      }
    },
    {
      "cell_type": "markdown",
      "source": [
        "入力となる8つの変数のばらつき方が変数ごとに違いすぎるので，各変数の平均が 0 で分散が 1 となるようにする前処理（標準化）を適用する．\n",
        "ここでは，[sklearn.preprocessing.StandardScaler](https://scikit-learn.org/stable/modules/generated/sklearn.preprocessing.StandardScaler.html) を使う．"
      ],
      "metadata": {
        "id": "A2YSSVcEIKje"
      }
    },
    {
      "cell_type": "code",
      "source": [
        "# XLの変数ごとの平均と分散を求める\n",
        "scaler = StandardScaler()\n",
        "scaler.fit(XL)\n",
        "print(scaler.mean_) # 平均\n",
        "print(scaler.var_) # 分散\n",
        "\n",
        "# 求めた平均と分散を使って XL, XV を標準化\n",
        "XL2 = scaler.transform(XL)\n",
        "XV2 = scaler.transform(XV)"
      ],
      "metadata": {
        "id": "y8paoAo74I7E"
      },
      "execution_count": null,
      "outputs": []
    },
    {
      "cell_type": "markdown",
      "source": [
        "---\n",
        "## 線形回帰\n",
        "---\n"
      ],
      "metadata": {
        "id": "2wnmuzmQ16t6"
      }
    },
    {
      "cell_type": "markdown",
      "source": [
        "★ 下のコードセルに，次のことをするコードを書きなさい\n",
        "\n",
        "1. 標準化した学習データを使って線形回帰モデルを学習させる． scikit-learn の LinearRegression を使おう\n",
        "1. 学習データと検証データのそれぞれについて，住宅価格の予測値を求め，予測値と正解の値との間の平均二乗誤差を算出する\n",
        "\n",
        "\n",
        "\n"
      ],
      "metadata": {
        "id": "4uSzFlv6MJ87"
      }
    },
    {
      "cell_type": "code",
      "source": [
        "\n"
      ],
      "metadata": {
        "id": "sjvPHYpVJCAk"
      },
      "execution_count": null,
      "outputs": []
    },
    {
      "cell_type": "markdown",
      "source": [
        "---\n",
        "## ニューラルネットを用いた回帰\n",
        "---"
      ],
      "metadata": {
        "id": "BbyWwgfpNmcb"
      }
    },
    {
      "cell_type": "markdown",
      "source": [
        "今度は，ニューラルネットを使ってみよう．ニューラルネットとはどんなものかについては，この授業の後の回で解説予定なので，現時点では深い理解は求めない．\n",
        "以下の実験で分かるように，「ニューロンの数」がモデルのハイパーパラメータで，これを変えるとモデルの複雑度が変化することを知っていればok．\n",
        "\n",
        "【参考】\n",
        "-  2023年度「機械学習I」第5回 https://www-tlab.math.ryukoku.ac.jp/wiki/?ML/2023#ex05\n",
        "-  2023年度「機械学習I」第6回 https://www-tlab.math.ryukoku.ac.jp/wiki/?ML/2023#ex06"
      ],
      "metadata": {
        "id": "x4B_4Y5tPYjM"
      }
    },
    {
      "cell_type": "markdown",
      "source": [
        "---\n",
        "### 2層ニューラルネットの実験"
      ],
      "metadata": {
        "id": "WqrVnOA2Vlwh"
      }
    },
    {
      "cell_type": "markdown",
      "source": [
        "次のコードを実行すると，中間層が1つの階層型ニューラルネット（2層ニューラルネット）を学習させることができる．\n",
        "中間層のニューロン数は変数 `H` で指定している．\n",
        "ニューラルネットの学習では，目的関数を最適化するための処理を何度も繰り返す必要があり，その繰り返し回数（の最大値）をここでは 50 としている．\n",
        "\n"
      ],
      "metadata": {
        "id": "ulHQAVwuQW_k"
      }
    },
    {
      "cell_type": "code",
      "source": [
        "H = 16\n",
        "model = MLPRegressor(hidden_layer_sizes=(H,), activation='relu', alpha=0.0, max_iter=50, verbose=True)\n",
        "regressor = model.fit(XL2, yL)\n",
        "\n",
        "# この下にコードを追加しよう\n"
      ],
      "metadata": {
        "id": "qHrzDk-4LjiB"
      },
      "execution_count": null,
      "outputs": []
    },
    {
      "cell_type": "markdown",
      "source": [
        "```\n",
        "ConvergenceWarning: Stochastic Optimizer: Maximum iterations (50) reached and the optimization hasn't converged yet.\n",
        "```\n",
        "という警告が出るかもしれないが，学習の繰り返し回数が最大値に達したと言っているだけなので気にせずともよい．"
      ],
      "metadata": {
        "id": "mQeGYKbNQ6ma"
      }
    },
    {
      "cell_type": "markdown",
      "source": [
        "★ 上のコードセルに，次のことを行うコードを追加しなさい．\n",
        "\n",
        "> 学習データと検証データのそれぞれについて，上記で学習したニューラルネットによって得られる住宅価格の予測値を求め，予測値と正解の値との間の平均二乗誤差を算出して表示する"
      ],
      "metadata": {
        "id": "ZURqcDA6Rv2L"
      }
    },
    {
      "cell_type": "markdown",
      "source": [
        "★ ニューラルネットでは，パラメータの初期値によって学習結果が変化する．上記のコードではパラメータがランダムに初期化されるので，実行のたびに異なる結果が得られる．そのことをふまえて，次のことをやりなさい．\n",
        "\n",
        "1. コードセルを5回実行し，各回に得られた平均二乗誤差の値をこのセルに書き込む\n",
        "1. それらを線形回帰の実験で得られた結果と比較して簡単に考察する（このセルに書き込めばよい）\n",
        "\n",
        "\n",
        "\n",
        "\n"
      ],
      "metadata": {
        "id": "VjggqezWSg1l"
      }
    },
    {
      "cell_type": "markdown",
      "source": [
        "★ 上記の2層ニューラルネットでは，中間層に含まれるニューロンの数を変えるとモデルの複雑度が変化する．上のコードで変数 `H` で指定しているニューロン数を 256 に変えて，↑のセルと同じことをしなさい（5回繰り返して結果を考察）．\n",
        "\n"
      ],
      "metadata": {
        "id": "80vQtfp4U9vE"
      }
    },
    {
      "cell_type": "markdown",
      "source": [
        "ニューラルネットには多数のハイパーパラメータが存在するが，ここでは簡単のため，中間層のニューロン数のみを考慮している．"
      ],
      "metadata": {
        "id": "aq8UpaVyV4hp"
      }
    },
    {
      "cell_type": "markdown",
      "source": [
        "---\n",
        "### 3層ニューラルネットの実験"
      ],
      "metadata": {
        "id": "XjUEzOATW1BQ"
      }
    },
    {
      "cell_type": "markdown",
      "source": [
        "中間層を2つに増やした，3層のニューラルネットで同じような実験をやってみよう．\n",
        "2つの層のニューロン数は独立に変化させることができるが，それだと組み合わせが膨大になるので，ここでは，2つの中間層が同数のニューロンで構成されるもののみを考える．\n",
        "\n",
        "また，ニューラルネットはパラメータの初期値によって学習結果が変わるので，同じ構造のニューラルネットでも本当は初期値を何通りか変えて実験するべきである（2層の場合には5回ずつ実行していた）．\n",
        "しかし，複雑なニューラルネットの学習には時間がかかるので，ここでは1回のみでよしとする．"
      ],
      "metadata": {
        "id": "CGIPqAQgXuxl"
      }
    },
    {
      "cell_type": "markdown",
      "source": [
        "次のコードは，2つの中間層にそれぞれ `H` 個のニューロンをもつ3層ニューラルネットワークを定義している．\n",
        "2層の場合よりも学習の繰返し回数を増やし（`max_iter=200`），学習途上の出力を抑制している（`verbose=False`）．\n",
        "また，結果を再現できるよう．パラメータの初期化に使う乱数の種を固定している（`random_state=0`）．"
      ],
      "metadata": {
        "id": "wmHrnS20afCZ"
      }
    },
    {
      "cell_type": "code",
      "source": [
        "H = 16\n",
        "model = MLPRegressor(hidden_layer_sizes=(H,H,), activation='relu', alpha=0.0, max_iter=200, verbose=False, random_state=0)\n",
        "\n",
        "# この下にコードを追加しよう\n"
      ],
      "metadata": {
        "id": "kORL093UO6pv"
      },
      "execution_count": null,
      "outputs": []
    },
    {
      "cell_type": "markdown",
      "source": [
        "★ 上のコードセルに，次のことを行うコードを追加しなさい．\n",
        "\n",
        "> `XL2` と `yL` を用いて学習を行い，学習データと検証データのそれぞれについて，住宅価格の予測値を求め，予測値と正解の値との間の平均二乗誤差を算出して表示する"
      ],
      "metadata": {
        "id": "CRcCq6SObIT3"
      }
    },
    {
      "cell_type": "markdown",
      "source": [
        "★ 上の実験の条件のうち，中間層のニューロン数のみを 32, 64, 128, 256, 512 に変えて実験を行いなさい．上のコードセルの `H` の値を手動で書きかえて実行を繰り返すかわりに，次のコードセルの中身を書こう．"
      ],
      "metadata": {
        "id": "lAwLevfBbgSz"
      }
    },
    {
      "cell_type": "code",
      "source": [
        "HList = [16, 32, 64, 128, 256, 512]\n",
        "\n",
        "for H in HList:\n",
        "    # モデルの定義\n",
        "    # 学習\n",
        "    # 学習データに対する平均二乗誤差の算出\n",
        "    # 検証データに対する平均二乗誤差の算出\n",
        "    # H と2つの平均二乗誤差を print\n"
      ],
      "metadata": {
        "id": "txrSo72GZ3eI"
      },
      "execution_count": null,
      "outputs": []
    },
    {
      "cell_type": "markdown",
      "source": [
        "★ 上記の実験結果についての考察をこのテキストセルに書きなさい．\n",
        "\n"
      ],
      "metadata": {
        "id": "gqa7O_gwcxGn"
      }
    },
    {
      "cell_type": "code",
      "source": [],
      "metadata": {
        "id": "ZWVTWA9UcW2G"
      },
      "execution_count": null,
      "outputs": []
    }
  ],
  "metadata": {
    "colab": {
      "provenance": [],
      "toc_visible": true,
      "include_colab_link": true
    },
    "kernelspec": {
      "display_name": "Python 3",
      "name": "python3"
    },
    "language_info": {
      "codemirror_mode": {
        "name": "ipython",
        "version": 3
      },
      "file_extension": ".py",
      "mimetype": "text/x-python",
      "name": "python",
      "nbconvert_exporter": "python",
      "pygments_lexer": "ipython3",
      "version": "3.9.7"
    }
  },
  "nbformat": 4,
  "nbformat_minor": 0
}