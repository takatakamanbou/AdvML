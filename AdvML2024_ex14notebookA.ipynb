{
  "cells": [
    {
      "cell_type": "markdown",
      "metadata": {
        "id": "view-in-github",
        "colab_type": "text"
      },
      "source": [
        "<a href=\"https://colab.research.google.com/github/takatakamanbou/AdvML/blob/2024/AdvML2024_ex14notebookA.ipynb\" target=\"_parent\"><img src=\"https://colab.research.google.com/assets/colab-badge.svg\" alt=\"Open In Colab\"/></a>"
      ]
    },
    {
      "cell_type": "markdown",
      "metadata": {
        "id": "2UzDNLmVS3po"
      },
      "source": [
        "# AdvML ex14notebookA\n",
        "\n",
        "<img width=72 src=\"https://www-tlab.math.ryukoku.ac.jp/~takataka/course/AdvML/AdvML-logo.png\"> [この授業のウェブページ](https://www-tlab.math.ryukoku.ac.jp/wiki/?AdvML)\n",
        "\n",
        "\n"
      ]
    },
    {
      "cell_type": "markdown",
      "source": [
        "板書や口頭で補足する前提なので，この notebook だけでは説明が不完全です．\n"
      ],
      "metadata": {
        "id": "bStHGoTvH0gr"
      }
    },
    {
      "cell_type": "markdown",
      "source": [
        "---\n",
        "## 準備\n",
        "---\n"
      ],
      "metadata": {
        "id": "1yNJtlVbABFa"
      }
    },
    {
      "cell_type": "markdown",
      "source": [
        "今回の notebook で行う実験の中には，それなりに実行時間が長くなるものもある．GPU を利用した方が短い時間で済ませられるので，次のようにランタイムのタイプを変更しよう．\n",
        "\n",
        "1. Colab のメニューから「ランタイム」>「ランタイムのタイプを変更」>「CPU」に代えて「T4 GPU」を選択して「保存」\n",
        "1. ランタイムが初期化されるので，必要なら全てのコードセルを最初から実行し直す\n"
      ],
      "metadata": {
        "id": "4uxksuRYdI7i"
      }
    },
    {
      "cell_type": "code",
      "source": [
        "# @title\n",
        "# 準備あれこれ\n",
        "import numpy as np\n",
        "import matplotlib.pyplot as plt\n",
        "import pandas as pd\n",
        "import seaborn\n",
        "seaborn.set()\n",
        "\n",
        "# scikit-learn のいろいろ\n",
        "from sklearn.datasets import make_moons, fetch_openml\n",
        "from sklearn.model_selection import train_test_split\n",
        "\n",
        "# NumPy の 疑似乱数生成器（rng = random number generator）\n",
        "from numpy.random import default_rng\n",
        "rng = default_rng() # 疑似乱数生成器を初期化\n",
        "\n",
        "# PyTorch 関係のほげ\n",
        "import torch\n",
        "import torch.nn as nn\n",
        "import torch.nn.functional as F\n",
        "from torch.utils.data import Dataset, DataLoader\n",
        "from torchvision.transforms import ToTensor\n",
        "import torchsummary"
      ],
      "metadata": {
        "id": "RjLTO96x2EvK"
      },
      "execution_count": null,
      "outputs": []
    },
    {
      "cell_type": "markdown",
      "source": [
        "次のコードセルを実行して，`cuda` と表示されれば， PyTorch で GPU が使える状態になっている．`cpu` と表示される場合は，GPU が使えるようになっておらず，PyTorch のプログラムは CPU で実行される．\n"
      ],
      "metadata": {
        "id": "Oy3dG3U_AhlX"
      }
    },
    {
      "cell_type": "code",
      "source": [
        "device = torch.device('cuda:0' if torch.cuda.is_available() else 'cpu')\n",
        "print(device)"
      ],
      "metadata": {
        "id": "USuhbWT9avMx"
      },
      "execution_count": null,
      "outputs": []
    },
    {
      "cell_type": "markdown",
      "source": [
        "---\n",
        "## 非線形オートエンコーダ\n",
        "---"
      ],
      "metadata": {
        "id": "XbyMSNB1MpgE"
      }
    },
    {
      "cell_type": "markdown",
      "source": [
        "---\n",
        "### 非線形オートエンコーダとは"
      ],
      "metadata": {
        "id": "_B1bIedr9-PB"
      }
    },
    {
      "cell_type": "markdown",
      "source": [
        "非線形変換をはさむ"
      ],
      "metadata": {
        "id": "_fdN_VIj-Bna"
      }
    },
    {
      "cell_type": "markdown",
      "source": [
        "---\n",
        "### 実験: 非線形AEによる手書き数字画像の次元圧縮，再構成,生成"
      ],
      "metadata": {
        "id": "hpqQCJanT8nF"
      }
    },
    {
      "cell_type": "markdown",
      "source": [
        "#### データの準備"
      ],
      "metadata": {
        "id": "gHYK4isQ_J4a"
      }
    },
    {
      "cell_type": "code",
      "source": [
        "# MNIST データセットの入手\n",
        "Xraw, yraw = fetch_openml('mnist_784', version=1, parser='auto', return_X_y=True, as_frame=False)\n",
        "Xall = Xraw[:20000] / 255.0     # 画素値が [0, 255] の整数値なので [0, 1] の浮動小数点数値に変換\n",
        "yall = yraw[:20000].astype(int) # クラスラベル．0 から 9 の整数値\n",
        "\n",
        "# 学習データとテストデータの分割\n",
        "XL, XT, yL, yT = train_test_split(Xall, yall, test_size=4000, random_state=4649, stratify=yall)\n",
        "print(XL.shape, yL.shape)\n",
        "print(XT.shape, yT.shape)\n",
        "NL, D = XL.shape\n",
        "NT = len(XT)\n",
        "\n",
        "#K = 10\n",
        "\n",
        "# 平均を引いたデータを用意\n",
        "Xm = np.mean(XL, axis=0)\n",
        "XL2 = XL - Xm\n",
        "XT2 = XT - Xm"
      ],
      "metadata": {
        "id": "OFVRD2hP5Eof"
      },
      "execution_count": null,
      "outputs": []
    },
    {
      "cell_type": "code",
      "source": [
        "# 学習データの最初の50枚を可視化\n",
        "nrow, ncol = 5, 10\n",
        "fig, ax = plt.subplots(nrow, ncol, figsize=(0.8*ncol, 0.8*nrow))\n",
        "for i in range(nrow):\n",
        "    for j in range(ncol):\n",
        "        img = XL[i*ncol + j, ::].reshape((28, 28))\n",
        "        ax[i, j].imshow(img, cmap=plt.cm.gray, vmin=0, vmax=1)\n",
        "        ax[i, j].axis('off')\n",
        "\n",
        "fig.tight_layout()\n",
        "plt.show()"
      ],
      "metadata": {
        "id": "ibYTrkvy5Eog"
      },
      "execution_count": null,
      "outputs": []
    },
    {
      "cell_type": "code",
      "source": [
        "# データを扱うためのクラス\n",
        "#\n",
        "class MMDataset(Dataset):\n",
        "\n",
        "    def __init__(self, dataX):\n",
        "        self.X = dataX\n",
        "\n",
        "    def __len__(self):\n",
        "        return len(self.X)\n",
        "\n",
        "    def __getitem__(self, idx):\n",
        "        X = torch.tensor(self.X[idx], dtype=torch.float32)\n",
        "        return X"
      ],
      "metadata": {
        "id": "Bju37MFmwMNw"
      },
      "execution_count": null,
      "outputs": []
    },
    {
      "cell_type": "markdown",
      "source": [
        "#### 非線形AEの定義"
      ],
      "metadata": {
        "id": "-U58sp4ZBV4Y"
      }
    },
    {
      "cell_type": "code",
      "source": [
        "# 非線形オートエンコーダ\n",
        "#\n",
        "class NonlinearAE(nn.Module):\n",
        "\n",
        "    def __init__(self, dimX, dimHidden, dimZ):\n",
        "        super(NonlinearAE, self).__init__()\n",
        "        # Encoder\n",
        "        self.encoder = nn.Sequential(\n",
        "            nn.Linear(dimX, dimHidden, bias=True), nn.ReLU(),\n",
        "            nn.Linear(dimHidden, dimZ, bias=True),\n",
        "        )\n",
        "        # Decoder\n",
        "        self.decoder = nn.Sequential(\n",
        "            nn.Linear(dimZ, dimHidden, bias=True), nn.ReLU(),\n",
        "            nn.Linear(dimHidden, dimX, bias=True),\n",
        "        )\n",
        "\n",
        "    def forward(self, X):\n",
        "        Z = self.encoder(X)\n",
        "        Xt = self.decoder(Z)\n",
        "        return Xt\n",
        "\n",
        "    def loss(self, Xt, X):\n",
        "        return F.mse_loss(Xt, X, reduction='sum')"
      ],
      "metadata": {
        "id": "TITEhqw337av"
      },
      "execution_count": null,
      "outputs": []
    },
    {
      "cell_type": "markdown",
      "source": [
        "#### 学習等のための関数の定義"
      ],
      "metadata": {
        "id": "MN6_hiUoBwGO"
      }
    },
    {
      "cell_type": "code",
      "source": [
        "# 学習の関数\n",
        "#\n",
        "def train(model, optimizer, dl):\n",
        "    loss_sum = 0.0\n",
        "    n = 0\n",
        "    for i, X in enumerate(dl):\n",
        "        X = X.to(device)\n",
        "        Xt = model(X)         # 一つのバッチ X を入力して出力 Xt を計算\n",
        "        loss = model.loss(Xt, X) # 入力 X を正解として loss を計算\n",
        "        optimizer.zero_grad()   # 勾配をリセット\n",
        "        loss.backward()         # 誤差逆伝播でパラメータ更新量を計算\n",
        "        optimizer.step()         # パラメータを更新\n",
        "        n += len(X)\n",
        "        loss_sum += loss.item()  # 損失関数の値\n",
        "\n",
        "    return loss_sum/n\n",
        "\n",
        "# 損失関数の値を求める関数\n",
        "#\n",
        "@torch.no_grad()\n",
        "def evaluate(model, dl):\n",
        "    loss_sum = 0.0\n",
        "    n = 0\n",
        "    for i, X in enumerate(dl):\n",
        "        X = X.to(device)\n",
        "        Xt = model(X)           # 一つのバッチ X を入力して出力 Xt を計算\n",
        "        loss = model.loss(Xt, X)  # 入力 X を正解として loss を計算\n",
        "        n += len(X)\n",
        "        loss_sum += loss.item() # 損失関数の値\n",
        "\n",
        "    return loss_sum/n"
      ],
      "metadata": {
        "id": "6uQfo0Mbxc-8"
      },
      "execution_count": null,
      "outputs": []
    },
    {
      "cell_type": "markdown",
      "source": [
        "#### 学習"
      ],
      "metadata": {
        "id": "YMUJDQCICKoI"
      }
    },
    {
      "cell_type": "code",
      "source": [
        "# データ読み込みの仕組みを作る\n",
        "dsL = MMDataset(XL2)\n",
        "dsT = MMDataset(XT2)\n",
        "dlL = DataLoader(dsL, batch_size=100, shuffle=True)\n",
        "dlT = DataLoader(dsT, batch_size=100, shuffle=False)"
      ],
      "metadata": {
        "id": "1qXT6JT5yJmA"
      },
      "execution_count": null,
      "outputs": []
    },
    {
      "cell_type": "code",
      "source": [
        "# ネットワークモデルの定義\n",
        "H = 10\n",
        "net = NonlinearAE(D, 1000, H).to(device)\n",
        "\n",
        "# パラメータ最適化器の設定\n",
        "optimizer = torch.optim.Adam(net.parameters(), lr=1e-3)\n",
        "\n",
        "# 学習の繰り返し回数\n",
        "nepoch = 30\n",
        "\n",
        "# ネットワークの構造を表示\n",
        "torchsummary.summary(net, (1, D))\n",
        "\n",
        "# 学習\n",
        "L = []\n",
        "print(f'学習データ数: {len(dsL)}  テストデータ数: {len(dsT)}')\n",
        "print()\n",
        "print('# epoch  lossL  lossT')\n",
        "for t in range(1, nepoch+1):\n",
        "    lossL = train(net, optimizer, dlL) / D\n",
        "    lossT = evaluate(net, dlT) / D\n",
        "    L.append([t, lossL, lossT])\n",
        "    if (t < 10) or (t % 10 == 0):\n",
        "        print(f'{t}   {lossL:.5f}   {lossT:.5f}')\n",
        "\n",
        "# 学習曲線の表示\n",
        "data = np.array(L)\n",
        "#fig, ax = plt.subplots(1, 1, facecolor='white', figsize=(, 4))\n",
        "fig, ax = plt.subplots(1, 1)\n",
        "ax.plot(data[:, 0], data[:, 1], '.-', label='loss for training data')\n",
        "ax.plot(data[:, 0], data[:, 2], '.-', label='loss for test data')\n",
        "ax.axhline(0.0, color='gray')\n",
        "ax.legend()\n",
        "ax.set_title(f'loss')\n",
        "plt.show()\n",
        "\n",
        "# 学習後の損失と識別率\n",
        "loss2 = evaluate(net, dlL) / D\n",
        "print(f'# lossL: {loss2:.5f}', end='   ')\n",
        "loss2 = evaluate(net, dlT) / D\n",
        "print(f'# lossT: {loss2:.5f}')"
      ],
      "metadata": {
        "id": "cyINB5ZZzXGl"
      },
      "execution_count": null,
      "outputs": []
    },
    {
      "cell_type": "markdown",
      "source": [
        "参考: PCA の再構成誤差（再構成次元数 vs 平均二乗誤差）\n",
        "```\n",
        "10 0.034308\n",
        "20 0.023815\n",
        "30 0.017970\n",
        "40 0.014241\n",
        "50 0.011672\n",
        "```"
      ],
      "metadata": {
        "id": "Xra7lKi16dP4"
      }
    },
    {
      "cell_type": "markdown",
      "source": [
        "#### 再構成"
      ],
      "metadata": {
        "id": "Tg1XnEcRCeH6"
      }
    },
    {
      "cell_type": "code",
      "source": [
        "# テストデータ1バッチ分の再構成\n",
        "for i, X in enumerate(dlT):\n",
        "    X = X.to(device)\n",
        "    Xt = net(X)\n",
        "    break\n",
        "XX    = X.to('cpu').detach().numpy() + Xm\n",
        "XXrec = Xt.to('cpu').detach().numpy() + Xm\n",
        "\n",
        "# 再構成したテストデータの最初の10枚を可視化\n",
        "ncol = 10\n",
        "fig, ax = plt.subplots(2, ncol, figsize=(0.8*ncol, 0.8*2))\n",
        "\n",
        "# 元画像\n",
        "for j in range(ncol):\n",
        "    img = XX[j, ::].reshape((28, 28))\n",
        "    ax[0, j].imshow(img, cmap=plt.cm.gray, vmin=0, vmax=1)\n",
        "    ax[0, j].axis('off')\n",
        "\n",
        "# 再構成した画像\n",
        "for j in range(ncol):\n",
        "    img = XXrec[j, ::].reshape((28, 28))\n",
        "    ax[1, j].imshow(img, cmap=plt.cm.gray, vmin=0, vmax=1)\n",
        "    ax[1, j].axis('off')\n",
        "\n",
        "fig.tight_layout()\n",
        "plt.show()\n",
        "\n",
        "# 再構成誤差\n",
        "mse = np.mean((XX[:ncol] - XXrec[:ncol])**2)\n",
        "print(f'MSE = {mse:.5f}')"
      ],
      "metadata": {
        "id": "BiIIe5Pj2Jim"
      },
      "execution_count": null,
      "outputs": []
    },
    {
      "cell_type": "markdown",
      "source": [
        "#### 生成"
      ],
      "metadata": {
        "id": "6tuoKWjBCh0Z"
      }
    },
    {
      "cell_type": "code",
      "source": [
        "# 学習データの特徴量を求める\n",
        "Z = np.empty((len(dsL), H))\n",
        "n = 0\n",
        "for i, X in enumerate(dlL):\n",
        "    X = X.to(device)\n",
        "    Z[n:n+len(X)] = net.encoder(X).cpu().detach().numpy()\n",
        "    n += len(X)\n",
        "\n",
        "# その平均と分散共分散行列\n",
        "Zmu = np.mean(Z, axis=0)\n",
        "Zcov = np.cov(Z.T)\n",
        "print(Zmu.shape, Zcov.shape)"
      ],
      "metadata": {
        "id": "e3AhjZLOD35P"
      },
      "execution_count": null,
      "outputs": []
    },
    {
      "cell_type": "code",
      "source": [
        "# 生成\n",
        "Zgen = rng.multivariate_normal(Zmu, Zcov, 50)\n",
        "Zgen = torch.tensor(Zgen.astype(np.float32)).to(device)\n",
        "XXrec = net.decoder(Zgen)\n",
        "XXrec = XXrec.cpu().detach().numpy() + Xm\n",
        "XXrec.shape\n",
        "\n",
        "# 生成した画像50枚を可視化\n",
        "nrow, ncol = 5, 10\n",
        "fig, ax = plt.subplots(nrow, ncol, figsize=(0.8*ncol, 0.8*nrow))\n",
        "for i in range(nrow):\n",
        "    for j in range(ncol):\n",
        "        img = XXrec[i*ncol + j, ::].reshape((28, 28))\n",
        "        ax[i, j].imshow(img, cmap=plt.cm.gray, vmin=0, vmax=1)\n",
        "        ax[i, j].axis('off')\n",
        "\n",
        "fig.tight_layout()\n",
        "plt.show()"
      ],
      "metadata": {
        "id": "pgNaEJGu9kko"
      },
      "execution_count": null,
      "outputs": []
    },
    {
      "cell_type": "markdown",
      "source": [
        "---\n",
        "### 非線形オートエンコーダの拡張"
      ],
      "metadata": {
        "id": "5I4Bzf4TCs_h"
      }
    },
    {
      "cell_type": "markdown",
      "source": [
        "- CNN化する\n",
        "- デノイジングオートエンコーダ (Denoising AE)\n",
        "- etc."
      ],
      "metadata": {
        "id": "aOADXvJWC9ra"
      }
    },
    {
      "cell_type": "markdown",
      "source": [
        "---\n",
        "### 非線形オートエンコーダの応用"
      ],
      "metadata": {
        "id": "OwF6VyGqC5BT"
      }
    },
    {
      "cell_type": "markdown",
      "source": [
        "- 特徴抽出器として...\n",
        "- 生成モデルとして...\n",
        "- 異常検知...\n",
        "- etc."
      ],
      "metadata": {
        "id": "D7IKVSt1DTu6"
      }
    },
    {
      "cell_type": "markdown",
      "source": [
        "---\n",
        "## 変分オートエンコーダ\n",
        "---"
      ],
      "metadata": {
        "id": "F-cTyAKZE9re"
      }
    },
    {
      "cell_type": "markdown",
      "source": [
        "**変分オートエンコーダ** (Variational AE, VAE)\n",
        "\n",
        "この節の内容は，次の書籍に基づいています．より詳しく知りたいひとはそちらを参考にしてください：\n",
        "\n",
        "「ゼロから作る Deep Learning (5) — 生成モデル編」 斎藤康毅，オライリージャパン，2024."
      ],
      "metadata": {
        "id": "TUMGmccUFD5C"
      }
    },
    {
      "cell_type": "markdown",
      "source": [
        "---\n",
        "### VAE とは"
      ],
      "metadata": {
        "id": "7MpH0OPUFKkF"
      }
    },
    {
      "cell_type": "markdown",
      "source": [
        "ニューラルネットを用いる生成モデルの一種．連続な潜在変数 $\\mathbf{z} \\in R^{H}$ が非線形変換を受けて観測変数 $\\mathbf{x} \\in R^{D}$ となると考える．$\\mathbf{z}$ から $\\mathbf{x}$ への変換をニューラルネットでモデル化する．このニューラルネットは AE におけるデコーダに相当するので，VAE でもデコーダと呼ぶ．"
      ],
      "metadata": {
        "id": "clxinVmgFS-N"
      }
    },
    {
      "cell_type": "markdown",
      "source": [
        "VAE では，潜在変数 $\\mathbf{z}$ は，ある決まった（パラメータ固定の）正規分布に従うと仮定する．\n",
        "具体的には，平均 $\\mathbf{0}$，分散共分散行列が単位行列 $I$ の正規分布に従うものとする．\n",
        "つまり，\n",
        "\n",
        "$$\n",
        "p(\\mathbf{z}) = N(\\mathbf{z}; \\mathbf{0}, I)\n",
        "$$\n",
        "\n",
        "この正規分布から得られたある値 $\\mathbf{z}$ をデコーダに入力して得られる出力を\n",
        "\n",
        "$$\n",
        "\\widehat{\\mathbf{x}} = \\textrm{Dec}(\\mathbf{z}; \\mathbf{\\theta})\n",
        "$$\n",
        "\n",
        "と表すことにする．$\\widehat{\\mathbf{x}} \\in R^{D}$ である．また，$\\mathbf{\\theta}$ は，デコーダのパラメータを表す．\n",
        "\n",
        "このとき，観測変数 $\\mathbf{x}$ は，平均が $\\widehat{\\mathbf{x}}$ で分散共分散行列が $I$ の正規分布に従うと仮定する．つまり，\n",
        "\n",
        "$$\n",
        "p(\\mathbf{x}) = N(\\mathbf{x}; \\widehat{\\mathbf{x}}, I)\n",
        "$$"
      ],
      "metadata": {
        "id": "Vf4f-RwiG8Jk"
      }
    },
    {
      "cell_type": "markdown",
      "source": [
        "これが，VAEによるデータ生成のモデルである．VAE では，個々のデータは次の過程によって生成される．\n",
        "\n",
        "1. 平均 $0$ 分散共分散行列 $I$ の正規分布からひとつの値 $\\mathbf{z}$ を得る\n",
        "1. それがデコーダによって変換されて $\\widehat{\\mathbf{x}}$ になる\n",
        "1. 平均 $\\widehat{\\mathbf{x}}$ 分散共分散行列 $I$ の正規分布からひとつの値 $\\mathbf{x}$ を得る\n",
        "\n"
      ],
      "metadata": {
        "id": "izyAaLl3Kwyf"
      }
    },
    {
      "cell_type": "markdown",
      "source": [
        "---\n",
        "### VAE の学習"
      ],
      "metadata": {
        "id": "RZR8xgdhLWKs"
      }
    },
    {
      "cell_type": "markdown",
      "source": [
        "VAE の学習は，正規分布やGMMと同様に，対数尤度の最大化によって行う．\n",
        "\n",
        "学習データを $\\{ \\mathbf{x}_n \\}_{n = 1}^N$ とすると，VAE モデルの対数尤度\n",
        "は次のような式となる．\n",
        "\n",
        "$$\n",
        "\\sum_{n=1}^{N} \\log p_{\\mathbf{\\theta}}(\\mathbf{x}_n) = \\sum_{n=1}^{N} \\log \\int p_{\\mathbf{\\theta}} (\\mathbf{x}_n, \\mathbf{z}) d\\mathbf{z} = \\sum_{n=1}^{N} \\log \\int p_{\\mathbf{\\theta}} (\\mathbf{x}_n|\\mathbf{z})p(\\mathbf{z}) d\\mathbf{z}\n",
        "$$\n",
        "\n",
        "第2項，第3項には連続な変数 $\\mathbf{z}$ の積分が含まれているので，これらの式に基づいてパラメータの最適化を行うのは難しい．"
      ],
      "metadata": {
        "id": "_qMPYwHOLaTE"
      }
    },
    {
      "cell_type": "markdown",
      "source": [
        "そこで，EMアルゴリズムで考えたのと同様に，任意の確率分布 $q(\\mathbf{z})$ を用いて式を変形する．以下，ひとつのデータに対する対数尤度 $\\log p_{\\mathbf{\\theta}}(\\mathbf{x})$ について考える（添え字 $n$ も省略）．\n",
        "\n",
        "$$\n",
        "\\begin{aligned}\n",
        "\\log p_{\\mathbf{\\theta}}(\\mathbf{x}) &=  \\int q(\\mathbf{z})\\log \\frac{p_{\\mathbf{\\theta}}(\\mathbf{x}, \\mathbf{z})}{q(\\mathbf{z})} d\\mathbf{z} + \\int q(\\mathbf{z}) \\log \\frac{q(\\mathbf{z})}{p_{\\mathbf{\\theta}}(\\mathbf{z}|\\mathbf{x})} d\\mathbf{z}\\\\\n",
        "&= \\textrm{ELBO} + D_{\\textrm KL}(q(\\mathbf{z})\\Vert p_{\\mathbf{\\theta}}(\\mathbf{z}|\\mathbf{x}))\n",
        "\\end{aligned}\n",
        "$$\n",
        "\n",
        "式変形の過程は省略した（EMアルゴリズムの解説にある類似の式変形の $\\sum$ を $\\int$ に置き換えたものになっている）．"
      ],
      "metadata": {
        "id": "4DLQS_qyRdFy"
      }
    },
    {
      "cell_type": "markdown",
      "source": [
        "このように ELBO + KL-divergence の形になるので，EMアルゴリズムと同じ手続きで最適化を行うことも考えられるが，まだ困難がある（詳細は省略）．そこで，VAEでは，$q(\\mathbf{z})$ を正規分布に限定し，その限定のもとで ELBO を最大化する，というアプローチをとる．\n",
        "それでもまだ， $q(\\mathbf{z})$ のパラメータ（平均と分散共分散行列）をデータごとに用意しないといけないという困難があるので，ニューラルネットを用いて，これらのパラメータをデータ $\\mathbf{x}$ から求めることにする．\n",
        "\n",
        "この役割を担うニューラルネットをエンコーダと呼ぶ．エンコーダは，$\\mathbf{x}$ を入力すると，$\\mathbf{x}$ に対応する $q(\\mathbf{z})$ の平均と分散共分散行列を出力する．ただし，簡単のため， $q(\\mathbf{z})$ の分散共分散行列は対角行列に限定する．このエンコーダは次式で表される．\n",
        "\n",
        "$$\n",
        "\\mathbf{\\mu}, \\mathbf{\\sigma} = \\textrm{Enc}(\\mathbf{x}; \\mathbf{\\phi})\n",
        "$$\n",
        "\n",
        "$\\mathbf{\\mu}$ は，$\\mathbf{x}$ に対応する $q(\\mathbf{z})$ の平均であり，$\\mathbf{\\sigma}$ は，$q(\\mathbf{z})$ の分散共分散行列の対角要素の平方根（すなわち$\\mathbf{z}$ の各要素の標準偏差）をならべたベクトルである（$\\mathbf{\\sigma} = (\\sigma_1, \\sigma_2, \\ldots, \\sigma_H)$）．また，$\\mathbf{\\phi}$ は，エンコーダのパラメータを表す．\n",
        "$\\mathbf{x}$ が与えられたときの $q(\\mathbf{z})$ は，次式のように表される．\n",
        "\n",
        "$$\n",
        "q_{\\mathbf{\\phi}}(\\mathbf{z}|\\mathbf{x}) = N(\\mathbf{z}; \\mathbf{\\mu}, \\mathbf{\\sigma}^2I)\n",
        "$$\n",
        "\n",
        "ここで，$\\mathbf{\\sigma}^2 I$ という式は，ベクトル $\\sigma$ の要素ごとの2乗を対角要素にもつ対角行列を表している（が，数学的に正しい表現ではないので注意）．"
      ],
      "metadata": {
        "id": "w3mZ8SY3V_QR"
      }
    },
    {
      "cell_type": "markdown",
      "source": [
        "VAEでは，以上のように定式化した上で，ELBO の最大化を行う．\n",
        "$q$ はエンコーダでモデル化されたので，ELBO のパラメータは，デコーダのパラメータ $\\mathbf{\\theta}$ とエンコーダのパラメータ $\\mathbf{\\phi}$ である．あるデータ $\\mathbf{x}$ のELBO の値を $\\textrm{ELBO}(\\mathbf{x}; \\mathbf{\\theta}, \\mathbf{\\phi})$ と表すと，これは次のように変形できる．\n",
        "\n",
        "\n",
        "$$\n",
        "\\begin{aligned}\n",
        "\\textrm{ELBO}(\\mathbf{x}; \\mathbf{\\theta}, \\mathbf{\\phi}) &=  \\int q_{\\mathbf{\\phi}}(\\mathbf{z}|\\mathbf{x})\\log \\frac{p_{\\mathbf{\\theta}}(\\mathbf{x}, \\mathbf{z})}{q_{\\mathbf{\\phi}}(\\mathbf{z}|\\mathbf{x})} d\\mathbf{z} =\n",
        "\\int q_{\\mathbf{\\phi}}(\\mathbf{z}|\\mathbf{x})\\log \\frac{p_{\\mathbf{\\theta}}(\\mathbf{x}|\\mathbf{z})p(\\mathbf{z})}{q_{\\mathbf{\\phi}}(\\mathbf{z}|\\mathbf{x})} d\\mathbf{z}\\\\\n",
        "&= \\int q_{\\mathbf{\\phi}}(\\mathbf{z}|\\mathbf{x})\\log p_{\\mathbf{\\theta}}(\\mathbf{x}|\\mathbf{z})d\\mathbf{z} - \\int q_{\\mathbf{\\phi}}(\\mathbf{z}|\\mathbf{x})\\log \\frac{q_{\\mathbf{\\phi}}(\\mathbf{z}|\\mathbf{x})}{p(\\mathbf{z})} d\\mathbf{z}\\\\\n",
        "&= \\underbrace{\\textrm{E}_{q_{\\mathbf{\\phi}}(\\mathbf{z}|\\mathbf{x})}[ \\log p_{\\mathbf{\\theta}}(\\mathbf{x}|\\mathbf{z}) ]}_{J_1} - \\underbrace{D_{\\textrm KL}(q_{\\mathbf{\\phi}}(\\mathbf{z}|\\mathbf{x}) \\Vert p(\\mathbf{z}) )}_{J_2}\\\\\n",
        "\\end{aligned}\n",
        "$$\n",
        "\n",
        "上に示すように，最下行の2つの項を $J_1, J_2$ と表記する．\n",
        "\n"
      ],
      "metadata": {
        "id": "jo4H2JO4ch5F"
      }
    },
    {
      "cell_type": "markdown",
      "source": [
        "$J_1$ は，分布 $q_{\\mathbf{\\phi}}(\\mathbf{z}|\\mathbf{x})$ のもとでの $\\log p_{\\mathbf{\\theta}}(\\mathbf{x}|\\mathbf{z}) $ の期待値である．\n",
        "コンピュータを用いてこのような期待値を求める場合，「モンテカルロ法」を利用して近似値を求めることがよく行われる．$J_1$ の近似値をモンテカロル法によって求める場合，分布 $q_{\\mathbf{\\phi}}(\\mathbf{z}|\\mathbf{x})$ に従う乱数でいくつか $\\mathbf{z}$ のサンプルを生成し，それらを用いて $\\log p_{\\mathbf{\\theta}}(\\mathbf{x}|\\mathbf{z})$ の平均を求めることになる．\n",
        "詳しく書くと次の手続きとなる：\n",
        "\n",
        "1. $\\mathbf{x}$ をエンコーダへ入力して， $\\mathbf{\\mu}$ と $\\mathbf{\\sigma}$ を得る．\n",
        "1. $N(\\mathbf{z}; \\mathbf{\\mu}, \\mathbf{\\sigma}^2I)$ に従う $S$ 個のサンプル $\\mathbf{z}_1, \\mathbf{z}_2, \\ldots, \\mathbf{z}_S$ を生成する．\n",
        "1. それらをデコーダへ入力して，$\\widehat{\\mathbf{x}}_1, \\widehat{\\mathbf{x}}_2, \\ldots, \\widehat{\\mathbf{x}}_S$ を得る．\n",
        "1. $J_1 \\approx \\frac{1}{S} \\sum_{s=1}^{S}\\log N(\\mathbf{x}|\\widehat{\\mathbf{x}}_s, I)$ とする．\n",
        "\n",
        "ここでは $S$ 個のサンプルを用いるとしているが，VAEにおいては，実用上 $S=1$ で十分なことも多い．\n",
        "その場合，\n",
        "\n",
        "$$\n",
        "\\begin{aligned}\n",
        "J_1 & \\approx \\log N(\\mathbf{x}|\\widehat{\\mathbf{x}}_s, I) \\\\\n",
        "&= \\log \\left( \\frac{1}{\\sqrt{(2\\pi)^D |I|}} \\exp \\left(-\\frac{1}{2}(\\mathbf{x} - \\widehat{\\mathbf{x}})^{\\top} I^{-1} (\\mathbf{x} - \\widehat{\\mathbf{x}})\\right) \\right) \\\\\n",
        "&= -\\frac{1}{2}(\\mathbf{x} - \\widehat{\\mathbf{x}})^{\\top} (\\mathbf{x} - \\widehat{\\mathbf{x}}) - \\log \\sqrt{(2\\pi)^D} \\\\\n",
        "&= -\\frac{1}{2}\\Vert \\mathbf{x} - \\widehat{\\mathbf{x}} \\Vert^2 - \\frac{D}{2}\\log{2\\pi}\n",
        "\\end{aligned}\n",
        "$$\n",
        "\n",
        "となる．最下行の第2項は定数である．したがって，あるデータ $\\mathbf{x}$ に対する $J_1$ の値は，そのデータをエンコーダ→デコーダに入力して得られる再構成 $\\widehat{\\mathbf{x}}$ との間の二乗誤差が小さくなればなるほど大きくなる．"
      ],
      "metadata": {
        "id": "XONuBpEwETqo"
      }
    },
    {
      "cell_type": "markdown",
      "source": [
        "一方，$J_2$ は，$q_{\\mathbf{\\phi}}(\\mathbf{z}|\\mathbf{x})$ の $p(\\mathbf{z})$ に対する KL-divergence である．\n",
        "2つの分布は\n",
        "\n",
        "\n",
        "$$\n",
        "\\begin{aligned}\n",
        "q_{\\mathbf{\\phi}}(\\mathbf{z}|\\mathbf{x}) &= N(\\mathbf{z}; \\mathbf{\\mu}, \\mathbf{\\sigma}^2I) \\\\\n",
        "p(\\mathbf{z}) &= N(\\mathbf{z}; \\mathbf{0}, I)\n",
        "\\end{aligned}\n",
        "$$\n",
        "\n",
        "であり，いずれも，分散共分散行列が対角行列の正規分布である．\n",
        "ここで，\n",
        "$p_A(\\mathbf{z})$ が平均 $\\mathbf{\\mu}_A = (\\mu_{A,1}, \\mu_{A,2}, \\ldots, \\mu_{A,H})$ 分散共分散行列 $\\textrm{diag}( \\sigma_{A,1}^2, \\sigma_{A,2}^2, \\ldots, \\sigma_{A,H}^2)$ の正規分布であり，\n",
        "$p_B(\\mathbf{z})$ が平均 $\\mathbf{\\mu}_B = (\\mu_{B,1}, \\mu_{B,2}, \\ldots, \\mu_{B,H})$ 分散共分散行列 $\\textrm{diag}( \\sigma_{B,1}^2, \\sigma_{B,2}^2, \\ldots, \\sigma_{B,H}^2)$ の正規分布であるとき， $p_A(\\mathbf{z})$ の $p_B(\\mathbf{z})$ に対する KL-divergence は，次式のようになる（導出は省略）．\n",
        "\n",
        "$$\n",
        "D_{\\textrm KL}(p_A(\\mathbf{z}) \\Vert p_B(\\mathbf{z})) = -\\frac{1}{2}\\sum_{h=1}^{H} \\left( 1 + \\log\\frac{\\sigma_{A,h}^2}{\\sigma_{B,h}^2} - \\frac{(\\mu_{A,h} - \\mu_{B,h})^2}{\\sigma_{B,h}^2} - \\frac{\\sigma_{A,h}^2}{\\sigma_{B,h}^2} \\right)\n",
        "$$\n",
        "\n",
        "したがって，\n",
        "\n",
        "$$\n",
        "J_2 = D_{\\textrm KL}(q_{\\mathbf{\\phi}}(\\mathbf{z}|\\mathbf{x}) \\Vert p(\\mathbf{z}) ) = -\\frac{1}{2}\\sum_{h=1}^{H} (1 + \\log{\\sigma_h^2} - \\mu_h^2 - \\sigma_h^2)\n",
        "$$\n",
        "\n",
        "となる．$J_2$ の前に負号が付いているので，ELBO を最大化するためには，$J_2$ は小さければ小さいほどよい．つまり，$q_{\\mathbf{\\phi}}(\\mathbf{z}|\\mathbf{x})$ が $p(\\mathbf{z})$ に近づけば近づくほど ELBO が大きくなる．\n"
      ],
      "metadata": {
        "id": "GR7_lPVosn26"
      }
    },
    {
      "cell_type": "markdown",
      "source": [
        "以上をまとめると，あるデータ $\\mathbf{x}$ に対する ELBO の値は\n",
        "\n",
        "$$\n",
        "\\textrm{ELBO}(\\mathbf{x}; \\mathbf{\\theta}, \\mathbf{\\phi}) \\approx -\\frac{1}{2}\\Vert \\mathbf{x} - \\widehat{\\mathbf{x}} \\Vert^2 + \\frac{1}{2}\\sum_{h=1}^{H} (1 + \\log{\\sigma_h^2} - \\mu_h^2 - \\sigma_h^2) + \\mbox{const}\n",
        "$$\n",
        "\n",
        "となる．\n",
        "したがって，学習データ $\\{ \\mathbf{x}_n \\}_{n = 1}^N$ を用いて VAE を学習させるために用いる損失関数は，\n",
        "\n",
        "$$\n",
        "E(\\mathbf{\\theta}, \\mathbf{\\phi}) = \\sum_{n=1}^N \\Vert \\mathbf{x}_n - \\widehat{\\mathbf{x}}_n \\Vert^2 - \\sum_{n=1}^N\\sum_{h=1}^H \\left( 1 + \\log{\\sigma_{n,h}^2} - \\mu_{n,h}^2 - \\sigma_{n,h}^2 \\right)\n",
        "$$\n",
        "\n",
        "となる．ニューラルネットの学習は損失関数を最小化する形で定式化するのが一般的なので，ここでは $E = -2 \\sum_n \\textrm{ELBO}$ として損失関数を定義している（勾配法によるパラメータの最適化においては定数項は無関係なので無視している）．\n"
      ],
      "metadata": {
        "id": "WrhQY7tr6_rt"
      }
    },
    {
      "cell_type": "markdown",
      "source": [
        "### VAE の実装上の工夫"
      ],
      "metadata": {
        "id": "3wLyggJeoQ1W"
      }
    },
    {
      "cell_type": "markdown",
      "source": [
        "$D$ 次元のデータを $H$ 次元に変換してから再構成する非線形AEの場合，あるデータ $\\mathbf{x}$ をネットワークに入力してその再構成 $\\widehat{\\mathbf{x}}$ を計算する過程は次の通りだった．\n",
        "\n",
        "1. $\\mathbf{x}$ をエンコーダに入力して $H$ 次元の出力 $\\mathbf{z}$ を得る\n",
        "1. $\\mathbf{z}$ をデコーダに入力して $D$ 次元の出力（再構成） $\\widehat{\\mathbf{x}}$ を得る\n",
        "\n",
        "VAE もエンコーダとデコーダから成るが，その計算過程は少し異なり，次のようになる．\n",
        "\n",
        "1. $\\mathbf{x}$ をエンコーダに入力して 2つの $H$ 次元ベクトル $\\mathbf{\\mu}$ と $\\mathbf{\\sigma}$ を得る\n",
        "1. $N(\\mathbf{z}; \\mathbf{\\mu}, \\mathbf{\\sigma}^2I)$ に従う乱数で $H$ 次元ベクトル $\\mathbf{z}$ をひとつ生成する\n",
        "1. $\\mathbf{z}$ をデコーダに入力して $D$ 次元の出力（再構成） $\\widehat{\\mathbf{x}}$ を得る\n",
        "\n",
        "上記の 1. の計算は，非線形AEのエンコーダの出力層に2倍の数の（$2H$個の）ニューロンを置いたもので実現できる．ただし，そのままでは $\\sigma_1, \\sigma_2, \\ldots, \\sigma_H$ は正でなければならないという制約条件を入れるのが難しい．\n",
        "そこで，エンコーダには $\\sigma_1, \\sigma_2, \\ldots, \\sigma_H$ のかわりに $\\log{\\sigma_1^2}, \\log{\\sigma_2^2}, \\ldots, \\log{\\sigma_H^2}$ を出力させるのが一般的である．これらの値は任意の実数値をとる．\n",
        "$\\log{\\sigma_h^2}$ が得られたら， $\\exp\\left( \\frac{1}{2}\\log{\\sigma_h^2} \\right) = \\sigma_h$ として $\\sigma_h$ を得ることができる．\n",
        "\n",
        "次に 2. の計算であるが，この計算の過程にはそのままでは勾配を計算できないところがあり，PyTorch などの深層学習フレームワークでうまく実装できない．そこで，次のように計算過程を変更する：\n",
        "\n",
        "2-1. 標準正規分布に従う乱数を$H$個生成し，$\\varepsilon_1, \\varepsilon_2, \\ldots, \\varepsilon_H$ とする\n",
        "\n",
        "2-2. $\\mathbf{z}$ の要素 $z_h$ を $z_h = \\mu_h + \\sigma_h \\varepsilon_h$ によって求める（$h = 1, 2, \\ldots, H$）．\n",
        "\n",
        "この計算によって得られる $z_h$ は平均 $\\mu_h$ 分散 $\\sigma_h$ の正規分布に従い，さらに勾配も計算可能となる．\n",
        "この工夫を reparameterization trick という．\n",
        "\n",
        "一方， 3. の計算は，非線形AEのデコーダと全く同じようにできる．"
      ],
      "metadata": {
        "id": "mkRxOZ9FANU4"
      }
    },
    {
      "cell_type": "markdown",
      "source": [
        "---\n",
        "### 実験: VAEによる手書き数字画像の次元圧縮，再構成,生成"
      ],
      "metadata": {
        "id": "svxm-7poO3Pq"
      }
    },
    {
      "cell_type": "markdown",
      "source": [
        "\n",
        "データの準備や一部の関数の定義は先の「非線形AEによる...」と共通．"
      ],
      "metadata": {
        "id": "Yu1eDUluO-cu"
      }
    },
    {
      "cell_type": "markdown",
      "source": [
        "#### VAE の定義"
      ],
      "metadata": {
        "id": "ffnvbHThPb8e"
      }
    },
    {
      "cell_type": "code",
      "source": [
        "### VAE Encoder\n",
        "#\n",
        "class VAEEncoder(nn.Module):\n",
        "\n",
        "    def __init__(self, dimX, dimHidden, dimZ):\n",
        "        super().__init__()\n",
        "        self.layer1        = nn.Linear(dimX, dimHidden)\n",
        "        self.layer2_mu    = nn.Linear(dimHidden, dimZ)\n",
        "        self.layer2_logvar = nn.Linear(dimHidden, dimZ)\n",
        "\n",
        "    def forward(self, X):\n",
        "        Y = self.layer1(X)\n",
        "        Y = F.relu(Y)\n",
        "        mu    = self.layer2_mu(Y)\n",
        "        logvar = self.layer2_logvar(Y)\n",
        "        sigma = torch.exp(0.5*logvar)\n",
        "        return mu, sigma\n",
        "\n",
        "\n",
        "### VAE Decoder\n",
        "#\n",
        "class VAEDecoder(nn.Module):\n",
        "\n",
        "    def __init__(self, dimZ, dimHidden, dimXt):\n",
        "        super().__init__()\n",
        "        self.layer1 = nn.Linear(dimZ, dimHidden)\n",
        "        self.layer2 = nn.Linear(dimHidden, dimXt)\n",
        "\n",
        "    def forward(self, Z):\n",
        "        Y = self.layer1(Z)\n",
        "        Y = F.relu(Y)\n",
        "        Xt = self.layer2(Y)\n",
        "        #Xt = F.sigmoid(Xt)\n",
        "        return Xt\n",
        "\n",
        "### reparameterization trick\n",
        "#\n",
        "def reparameterization(mu, sigma):\n",
        "    eps = torch.randn_like(sigma)\n",
        "    Z = mu + sigma * eps\n",
        "    return Z\n",
        "\n",
        "\n",
        "### VAE\n",
        "#\n",
        "class VariationalAE(nn.Module):\n",
        "\n",
        "    def __init__(self, dimX, dimHidden, dimZ):\n",
        "        super().__init__()\n",
        "        self.encoder = VAEEncoder(dimX, dimHidden, dimZ)\n",
        "        self.decoder = VAEDecoder(dimZ, dimHidden, dimX)\n",
        "\n",
        "    def forward(self, X):\n",
        "        mu, sigma = self.encoder(X)\n",
        "        Z = reparameterization(mu, sigma)\n",
        "        Xt = self.decoder(Z)\n",
        "        return Xt, mu, sigma\n",
        "\n",
        "    def reconstruct(self, X):\n",
        "        mu, sigma = self.encoder(X)\n",
        "        Xt = self.decoder(mu)\n",
        "        return Xt\n",
        "\n",
        "    def loss(self, Xt, X, mu, sigma):\n",
        "        SQE = F.mse_loss(Xt, X, reduction='sum')\n",
        "        sigma2 = sigma**2\n",
        "        KLD = - torch.sum(1 + torch.log(sigma2) - mu**2 - sigma2)\n",
        "        return SQE + KLD"
      ],
      "metadata": {
        "id": "vGu5wX-zAGfU"
      },
      "execution_count": null,
      "outputs": []
    },
    {
      "cell_type": "markdown",
      "source": [
        "#### 学習等のための関数の定義"
      ],
      "metadata": {
        "id": "KawUnCTWQ5Vl"
      }
    },
    {
      "cell_type": "code",
      "source": [
        "# 学習の関数\n",
        "#\n",
        "def trainVAE(model, optimizer, dl):\n",
        "    loss_sum = 0.0\n",
        "    n = 0\n",
        "    for i, X in enumerate(dl):\n",
        "        X = X.to(device)\n",
        "        Xt, mu, sigma = model(X) # 一つのバッチ X を入力して出力を計算\n",
        "        loss = model.loss(Xt, X, mu, sigma) # 損失関数の値を計算\n",
        "        optimizer.zero_grad()   # 勾配をリセット\n",
        "        loss.backward()         # 誤差逆伝播でパラメータ更新量を計算\n",
        "        optimizer.step()         # パラメータを更新\n",
        "        n += len(X)\n",
        "        loss_sum += loss.item()  # 損失関数の値\n",
        "\n",
        "    return loss_sum/n\n",
        "\n",
        "\n",
        "# 損失関数の値を求める関数\n",
        "#\n",
        "@torch.no_grad()\n",
        "def evaluateVAE(model, dl):\n",
        "    loss_sum = 0.0\n",
        "    n = 0\n",
        "    for i, X in enumerate(dl):\n",
        "        X = X.to(device)\n",
        "        Xt, mu, sigma = model(X)  # 一つのバッチ X を入力して出力を計算\n",
        "        loss = model.loss(Xt, X, mu, sigma) # 損失関数の値を計算\n",
        "        n += len(X)\n",
        "        loss_sum += loss.item() # 損失関数の値\n",
        "\n",
        "    return loss_sum/n"
      ],
      "metadata": {
        "id": "bGazOmfgLxCe"
      },
      "execution_count": null,
      "outputs": []
    },
    {
      "cell_type": "markdown",
      "source": [
        "#### 学習"
      ],
      "metadata": {
        "id": "KYl9dY-AQczt"
      }
    },
    {
      "cell_type": "code",
      "source": [
        "# データ読み込みの仕組みを作る\n",
        "dsL = MMDataset(XL2)\n",
        "dsT = MMDataset(XT2)\n",
        "dlL = DataLoader(dsL, batch_size=100, shuffle=True)\n",
        "dlT = DataLoader(dsT, batch_size=100, shuffle=False)"
      ],
      "metadata": {
        "id": "MDjf1vm6HeDZ"
      },
      "execution_count": null,
      "outputs": []
    },
    {
      "cell_type": "code",
      "source": [
        "# ネットワークモデルの定義\n",
        "H = 10\n",
        "vae = VariationalAE(D, 1000, H).to(device)\n",
        "\n",
        "# パラメータ最適化器の設定\n",
        "optimizer = torch.optim.Adam(vae.parameters(), lr=1e-3)\n",
        "\n",
        "# 学習の繰り返し回数\n",
        "nepoch = 30\n",
        "\n",
        "# ネットワークの構造を表示\n",
        "torchsummary.summary(vae, (1, D))\n",
        "\n",
        "# 学習\n",
        "L = []\n",
        "print(f'学習データ数: {len(dsL)}  テストデータ数: {len(dsT)}')\n",
        "print()\n",
        "print('# epoch  lossL  lossT')\n",
        "for t in range(1, nepoch+1):\n",
        "    lossL = trainVAE(vae, optimizer, dlL) / D\n",
        "    lossT = evaluateVAE(vae, dlT) / D\n",
        "    L.append([t, lossL, lossT])\n",
        "    if (t < 10) or (t % 10 == 0):\n",
        "        print(f'{t}   {lossL:.5f}   {lossT:.5f}')\n",
        "\n",
        "# 学習曲線の表示\n",
        "data = np.array(L)\n",
        "fig, ax = plt.subplots(1, 1)\n",
        "ax.plot(data[:, 0], data[:, 1], '.-', label='loss for training data')\n",
        "ax.plot(data[:, 0], data[:, 2], '.-', label='loss for test data')\n",
        "ax.axhline(0.0, color='gray')\n",
        "ax.legend()\n",
        "ax.set_title(f'loss')\n",
        "plt.show()\n",
        "\n",
        "# 学習後の損失と識別率\n",
        "loss2 = evaluateVAE(vae, dlL) / D\n",
        "print(f'# lossL: {loss2:.5f}', end='   ')\n",
        "loss2 = evaluateVAE(vae, dlT) / D\n",
        "print(f'# lossT: {loss2:.5f}')"
      ],
      "metadata": {
        "id": "odt0Faw_Mpn1"
      },
      "execution_count": null,
      "outputs": []
    },
    {
      "cell_type": "markdown",
      "source": [
        "#### 再構成"
      ],
      "metadata": {
        "id": "p7liXU1ZgV4e"
      }
    },
    {
      "cell_type": "code",
      "source": [
        "# テストデータ1バッチ分の再構成\n",
        "for i, X in enumerate(dlT):\n",
        "    X = X.to(device)\n",
        "    Xt1, mu, sigma = vae(X)\n",
        "    Xt2, mu, sigma = vae(X)\n",
        "    Xt3 = vae.reconstruct(X)\n",
        "    break\n",
        "XX     = X.to('cpu').detach().numpy() + Xm\n",
        "XXrec1 = Xt1.to('cpu').detach().numpy() + Xm\n",
        "XXrec2 = Xt2.to('cpu').detach().numpy() + Xm\n",
        "XXrec3 = Xt3.to('cpu').detach().numpy() + Xm\n",
        "\n",
        "# 再構成したテストデータの最初の10枚を可視化\n",
        "ncol = 10\n",
        "fig, ax = plt.subplots(4, ncol, figsize=(0.8*ncol, 0.8*4))\n",
        "\n",
        "# 元画像\n",
        "for j in range(ncol):\n",
        "    img = XX[j, ::].reshape((28, 28))\n",
        "    ax[0, j].imshow(img, cmap=plt.cm.gray, vmin=0, vmax=1)\n",
        "    ax[0, j].axis('off')\n",
        "\n",
        "# 再構成した画像（正規分布からサンプリング）\n",
        "for j in range(ncol):\n",
        "    img = XXrec1[j, ::].reshape((28, 28))\n",
        "    ax[1, j].imshow(img, cmap=plt.cm.gray, vmin=0, vmax=1)\n",
        "    ax[1, j].axis('off')\n",
        "\n",
        "# 再構成した画像（正規分布からサンプリング）\n",
        "for j in range(ncol):\n",
        "    img = XXrec2[j, ::].reshape((28, 28))\n",
        "    ax[2, j].imshow(img, cmap=plt.cm.gray, vmin=0, vmax=1)\n",
        "    ax[2, j].axis('off')\n",
        "\n",
        "# 再構成した画像（平均を使う）\n",
        "for j in range(ncol):\n",
        "    img = XXrec3[j, ::].reshape((28, 28))\n",
        "    ax[3, j].imshow(img, cmap=plt.cm.gray, vmin=0, vmax=1)\n",
        "    ax[3, j].axis('off')\n",
        "\n",
        "fig.tight_layout()\n",
        "plt.show()\n",
        "\n",
        "# 再構成誤差\n",
        "mse = np.mean((XX[:ncol] - XXrec3[:ncol])**2)\n",
        "print(f'MSE = {mse:.5f}')"
      ],
      "metadata": {
        "id": "2BVGJ0Y6OAFf"
      },
      "execution_count": null,
      "outputs": []
    },
    {
      "cell_type": "markdown",
      "source": [
        "VAEの再構成は，データ $\\mathbf{x}$ をエンコーダに入力して正規分布のパラメータを得る → その正規分布から $\\mathbf{z}$ をランダムサンプリング → それをデコーダに入力して再構成 $\\widehat{\\mathbf{x}}$ を得る，という過程である．\n",
        "そのため，同じ $\\mathbf{x}$ に対しても $\\widehat{\\mathbf{x}}$ はランダムに揺らぐ．\n",
        "図の上から1行目が $\\mathbf{x}$ であり，2行目以降は3通りの再構成である．2行目と3行目はランダムサンプリングした2通りの $\\mathbf{z}$ を用いた再構成，4行目は，エンコーダが出力した平均値をそのまま $\\mathbf{z}$ として得られた再構成である．"
      ],
      "metadata": {
        "id": "B6V6FRAUCfsV"
      }
    },
    {
      "cell_type": "markdown",
      "source": [
        "#### 生成"
      ],
      "metadata": {
        "id": "ENaJMa5CgiGW"
      }
    },
    {
      "cell_type": "code",
      "source": [
        "# 生成\n",
        "Zgen = np.random.normal(size=50*H).reshape((50, H))\n",
        "Zgen = torch.tensor(Zgen.astype(np.float32)).to(device)\n",
        "XXrec = vae.decoder(Zgen)\n",
        "XXrec = XXrec.cpu().detach().numpy() + Xm\n",
        "\n",
        "# 生成した画像50枚を可視化\n",
        "nrow, ncol = 5, 10\n",
        "fig, ax = plt.subplots(nrow, ncol, figsize=(0.8*ncol, 0.8*nrow))\n",
        "for i in range(nrow):\n",
        "    for j in range(ncol):\n",
        "        img = XXrec[i*ncol + j, ::].reshape((28, 28))\n",
        "        ax[i, j].imshow(img, cmap=plt.cm.gray, vmin=0, vmax=1)\n",
        "        ax[i, j].axis('off')\n",
        "\n",
        "fig.tight_layout()\n",
        "plt.show()"
      ],
      "metadata": {
        "id": "BD46A-nfQBLX"
      },
      "execution_count": null,
      "outputs": []
    },
    {
      "cell_type": "code",
      "source": [],
      "metadata": {
        "id": "XzKhrQ3vROeI"
      },
      "execution_count": null,
      "outputs": []
    }
  ],
  "metadata": {
    "colab": {
      "provenance": [],
      "toc_visible": true,
      "gpuType": "T4",
      "include_colab_link": true
    },
    "kernelspec": {
      "display_name": "Python 3",
      "name": "python3"
    },
    "language_info": {
      "codemirror_mode": {
        "name": "ipython",
        "version": 3
      },
      "file_extension": ".py",
      "mimetype": "text/x-python",
      "name": "python",
      "nbconvert_exporter": "python",
      "pygments_lexer": "ipython3",
      "version": "3.9.7"
    },
    "accelerator": "GPU"
  },
  "nbformat": 4,
  "nbformat_minor": 0
}