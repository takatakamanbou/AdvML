{
  "cells": [
    {
      "cell_type": "markdown",
      "metadata": {
        "id": "view-in-github",
        "colab_type": "text"
      },
      "source": [
        "<a href=\"https://colab.research.google.com/github/takatakamanbou/AdvML/blob/2024/AdvML2024_reportB.ipynb\" target=\"_parent\"><img src=\"https://colab.research.google.com/assets/colab-badge.svg\" alt=\"Open In Colab\"/></a>"
      ]
    },
    {
      "cell_type": "markdown",
      "metadata": {
        "id": "2UzDNLmVS3po"
      },
      "source": [
        "# AdvML reportB\n",
        "\n",
        "<img width=72 src=\"https://www-tlab.math.ryukoku.ac.jp/~takataka/course/AdvML/AdvML-logo.png\"> [この授業のウェブページ](https://www-tlab.math.ryukoku.ac.jp/wiki/?AdvML)\n",
        "\n",
        "\n"
      ]
    },
    {
      "cell_type": "markdown",
      "metadata": {
        "id": "gQ0oDxG3iygx"
      },
      "source": [
        "----\n",
        "## 準備\n",
        "----\n"
      ]
    },
    {
      "cell_type": "code",
      "source": [
        "# 準備あれこれ\n",
        "import numpy as np\n",
        "import matplotlib.pyplot as plt\n",
        "import pandas as pd\n",
        "import seaborn\n",
        "seaborn.set()\n",
        "\n",
        "# scikit-learn のいろいろ\n",
        "from sklearn.datasets import fetch_openml\n",
        "from sklearn.model_selection import train_test_split\n",
        "from sklearn.linear_model import LogisticRegression"
      ],
      "metadata": {
        "id": "RjLTO96x2EvK"
      },
      "execution_count": null,
      "outputs": []
    },
    {
      "cell_type": "markdown",
      "source": [
        "---\n",
        "### MNIST"
      ],
      "metadata": {
        "id": "bZ5xMLN6CDtJ"
      }
    },
    {
      "cell_type": "markdown",
      "source": [
        "この課題では，MNIST と呼ばれるデータセットを用いる．手書き数字画像を 0 から 9 の 10 クラスに分類する問題のためのものである．\n"
      ],
      "metadata": {
        "id": "dr3hs6hH6NI4"
      }
    },
    {
      "cell_type": "markdown",
      "source": [
        "#### データの入手"
      ],
      "metadata": {
        "id": "Ux3a5y8VHKbF"
      }
    },
    {
      "cell_type": "code",
      "source": [
        "# MNIST データセットの入手\n",
        "Xraw, yraw = fetch_openml('mnist_784', version=1, parser='auto', return_X_y=True, as_frame=False)\n",
        "Xall = Xraw / 255.0     # 画素値が [0, 255] の整数値なので [0, 1] の浮動小数点数値に変換\n",
        "yall = yraw.astype(int) # クラスラベル．0 から 9 の整数値\n",
        "print(Xall.shape, yall.shape)"
      ],
      "metadata": {
        "id": "UUuJmhmY95lq"
      },
      "execution_count": null,
      "outputs": []
    },
    {
      "cell_type": "code",
      "source": [
        "# 最初の20枚を可視化\n",
        "nrow, ncol = 2, 10\n",
        "fig, ax = plt.subplots(nrow, ncol, figsize=(10, 2))\n",
        "for i in range(nrow):\n",
        "    for j in range(ncol):\n",
        "        img = Xall[i*ncol + j, ::].reshape((28, 28))\n",
        "        ax[i, j].imshow(img, cmap=plt.cm.gray, vmin=0, vmax=1)\n",
        "        ax[i, j].axis('off')\n",
        "        ax[i, j].set_title(yall[i*ncol + j])\n",
        "\n",
        "fig.tight_layout()\n",
        "plt.show()"
      ],
      "metadata": {
        "id": "jd_nOQDeTQzJ"
      },
      "execution_count": null,
      "outputs": []
    },
    {
      "cell_type": "markdown",
      "source": [
        "上記の画像の上についている数字は，その画像に対応するクラスラベルである．\n",
        "ひとつの画像は 28 x 28 画素のグレイスケール画像であるため，$28\\times 28 = 784$ 次元ベクトルとして扱う．"
      ],
      "metadata": {
        "id": "Dtnf4Q_STauJ"
      }
    },
    {
      "cell_type": "markdown",
      "source": [
        "#### 学習データとテストデータの分割"
      ],
      "metadata": {
        "id": "0Rl8SRgoHN92"
      }
    },
    {
      "cell_type": "markdown",
      "source": [
        "MNIST のデータは全部で7万件ある．多くて実験が大変（学習に時間がかかる等）なので，最初の2万件を取り出し，[sklearn.model_selection.train_test_split](https://scikit-learn.org/stable/modules/generated/sklearn.model_selection.train_test_split.html) を使って 16000 件の学習データと 4000 件のテストデータに分ける．"
      ],
      "metadata": {
        "id": "Dn3-vGvJShgT"
      }
    },
    {
      "cell_type": "code",
      "source": [
        "yall[:20000].shape"
      ],
      "metadata": {
        "id": "gaKsixGYUCuy"
      },
      "execution_count": null,
      "outputs": []
    },
    {
      "cell_type": "code",
      "source": [
        "# 学習データとテストデータの分割\n",
        "Xsub, ysub = Xall[:20000, :], yall[:20000]\n",
        "XL, XT, yL, yT = train_test_split(Xsub, ysub, test_size=4000, random_state=4649, stratify=ysub)\n",
        "print(XL.shape, yL.shape)\n",
        "print(XT.shape, yT.shape)"
      ],
      "metadata": {
        "id": "MvfFn0Uy6pYl"
      },
      "execution_count": null,
      "outputs": []
    },
    {
      "cell_type": "markdown",
      "source": [
        "---\n",
        "## ロジスティック回帰\n",
        "---\n"
      ],
      "metadata": {
        "id": "2wnmuzmQ16t6"
      }
    },
    {
      "cell_type": "markdown",
      "source": [
        "次のコードセルを実行すると，`XL` と `yL` を学習データとしてロジスティック回帰モデルの学習を行い，学習データおよびテストデータ（`XT` と `yT`）に対する識別率（正答したデータの割合）を算出することができる．\n",
        "\n",
        "`%%time` は，このコードセルの実行に要した時間を表示させる指示である．`CPU times` の 3 つはいわゆる CPU 実行時間，`Wall time` が実時間．この notebook の実験では，`Wall time` に注目すればよい．\n",
        "\n",
        "cf. [sklearn.linear_model.LogisticRegression](https://scikit-learn.org/stable/modules/generated/sklearn.linear_model.LogisticRegression.html)\n"
      ],
      "metadata": {
        "id": "4uSzFlv6MJ87"
      }
    },
    {
      "cell_type": "code",
      "source": [
        "%%time\n",
        "\n",
        "# 学習\n",
        "model = LogisticRegression()\n",
        "model.fit(XL, yL)\n",
        "\n",
        "# 学習データのクラスを予測して正解数を算出\n",
        "yL_pred = model.predict(XL)\n",
        "ncL = np.sum(yL_pred == yL)\n",
        "\n",
        "# テストデータのクラスを予測して正解数を算出\n",
        "yT_pred = model.predict(XT)\n",
        "ncT = np.sum(yT_pred == yT)\n",
        "\n",
        "# print\n",
        "print(f'学習データ: {ncL/len(XL)}  テストデータ: {ncT/len(XT)}')"
      ],
      "metadata": {
        "id": "sjvPHYpVJCAk"
      },
      "execution_count": null,
      "outputs": []
    },
    {
      "cell_type": "markdown",
      "source": [
        "結果をメモしておくこと（この notebook に書くなら，「結果と考察」のセクションへ）．"
      ],
      "metadata": {
        "id": "tC4SubCWee-O"
      }
    },
    {
      "cell_type": "markdown",
      "source": [
        "---\n",
        "## $k$-近傍法\n",
        "---"
      ],
      "metadata": {
        "id": "BbyWwgfpNmcb"
      }
    },
    {
      "cell_type": "markdown",
      "source": [
        "同じデータに対して，$k$-近傍法を適用してみよう．\n",
        "$k$-近傍法については，2024年度「機械学習I」第3回（ https://www-tlab.math.ryukoku.ac.jp/wiki/?ML/2024#ex03 ）参照．\n"
      ],
      "metadata": {
        "id": "x4B_4Y5tPYjM"
      }
    },
    {
      "cell_type": "markdown",
      "source": [
        "以下のセルに，$k$-近傍法でロジスティック回帰と同様の実験を行うコードを書きなさい．\n",
        "[sklearn.neighbors.KNeighborsClassifier](https://scikit-learn.org/stable/modules/generated/sklearn.neighbors.KNeighborsClassifier.html) を使おう．"
      ],
      "metadata": {
        "id": "zfFgmOi2Ww3k"
      }
    },
    {
      "cell_type": "code",
      "source": [
        "\n"
      ],
      "metadata": {
        "id": "Bb1DD8UkW_mx"
      },
      "execution_count": null,
      "outputs": []
    },
    {
      "cell_type": "markdown",
      "source": [
        "$k$-近傍法では，$k$ がハイパーパラメータとなる．$k$ をいろいろ変えて実行し，結果をメモしておくこと（この notebook に書くなら，「結果と考察」のセクションへ）．"
      ],
      "metadata": {
        "id": "lGFHh8koXNdR"
      }
    },
    {
      "cell_type": "markdown",
      "source": [
        "---\n",
        "## 階層型ニューラルネットの実験\n",
        "---"
      ],
      "metadata": {
        "id": "WqrVnOA2Vlwh"
      }
    },
    {
      "cell_type": "markdown",
      "source": [
        "以下のセルに，階層型ニューラルネットを用いて同様の実験を行うコードを書きなさい．\n",
        "\n",
        "ただし...\n",
        "- [sklearn.neural_network.MLPClassifier](https://scikit-learn.org/stable/modules/generated/sklearn.neural_network.MLPClassifier.html) を使おう．\n",
        "- 階層型ニューラルネットには様々なハイパーパラメータがあるが，ここでは，層の数とニューロン数のみを変えてみることにしよう．\n",
        "- [sklearn.neural_network.MLPClassifier](https://scikit-learn.org/stable/modules/generated/sklearn.neural_network.MLPClassifier.html) を見ると，`early_stopping` というオプションがある．\n",
        "    - その値はデフォルトでは `False` であるが，`True` にして実験しよう．\n",
        "    - どういう効果があるか，リンク先のドキュメントを読んで理解しよう．\n",
        "    - あわせて，`verbose` も `True` にして実行しよう．\n",
        "- 層の数やニューロン数が同じ条件のニューラルネットワークでも，パラメータの初期値が異なれば，違う学習結果が得られる．同じ条件でも複数回実行することが望ましい．\n"
      ],
      "metadata": {
        "id": "ulHQAVwuQW_k"
      }
    },
    {
      "cell_type": "code",
      "source": [
        "\n"
      ],
      "metadata": {
        "id": "qHrzDk-4LjiB"
      },
      "execution_count": null,
      "outputs": []
    },
    {
      "cell_type": "markdown",
      "source": [
        "層数やニューロン数をいろいろ変えて実行し，結果をメモしておくこと（この notebook に書くなら，「結果と考察」のセクションへ）．\n",
        "\n",
        "興味があれば，`early_stopping` のオンオフで結果がどのように違うかも調べてみるとよい．"
      ],
      "metadata": {
        "id": "mQeGYKbNQ6ma"
      }
    },
    {
      "cell_type": "markdown",
      "source": [
        "---\n",
        "## 結果と考察\n",
        "---"
      ],
      "metadata": {
        "id": "7i-ZBa-wd46T"
      }
    },
    {
      "cell_type": "markdown",
      "source": [
        "以下に，上記で行った各種実験の結果とそれに対する考察を記しなさい．\n",
        "学習手法ごとにその中でハイパーパラメータを変えるとどう変化したかを述べるだけではなく，学習手法を変えると結果がどう変化したかも考察すること．\n",
        "\n",
        "注意:\n",
        "\n",
        "- 結果を記す際には，コードセルを実行して得られる出力を貼り付けても構いませんが，不必要なものまで長々と貼り付けるのではなく，必要な情報を取捨選択し整理してください．\n",
        "- Colab notebook には，Markdown 形式で文書を書けます．\n",
        "セクションごとに見出しを付ける，箇条書きする，表を作る等，書き方を工夫したい場合は，「Markdown」で検索してみるとよいでしょう．"
      ],
      "metadata": {
        "id": "zRkFgFsleFBW"
      }
    },
    {
      "cell_type": "markdown",
      "source": [],
      "metadata": {
        "id": "V1wWkvG6e_H6"
      }
    }
  ],
  "metadata": {
    "colab": {
      "provenance": [],
      "toc_visible": true,
      "include_colab_link": true
    },
    "kernelspec": {
      "display_name": "Python 3",
      "name": "python3"
    },
    "language_info": {
      "codemirror_mode": {
        "name": "ipython",
        "version": 3
      },
      "file_extension": ".py",
      "mimetype": "text/x-python",
      "name": "python",
      "nbconvert_exporter": "python",
      "pygments_lexer": "ipython3",
      "version": "3.9.7"
    }
  },
  "nbformat": 4,
  "nbformat_minor": 0
}