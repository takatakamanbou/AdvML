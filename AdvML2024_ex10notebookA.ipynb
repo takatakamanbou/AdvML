{
  "cells": [
    {
      "cell_type": "markdown",
      "metadata": {
        "id": "view-in-github",
        "colab_type": "text"
      },
      "source": [
        "<a href=\"https://colab.research.google.com/github/takatakamanbou/AdvML/blob/2024/AdvML2024_ex10notebookA.ipynb\" target=\"_parent\"><img src=\"https://colab.research.google.com/assets/colab-badge.svg\" alt=\"Open In Colab\"/></a>"
      ]
    },
    {
      "cell_type": "markdown",
      "metadata": {
        "id": "2UzDNLmVS3po"
      },
      "source": [
        "# AdvML ex10notebookA\n",
        "\n",
        "<img width=72 src=\"https://www-tlab.math.ryukoku.ac.jp/~takataka/course/AdvML/AdvML-logo.png\"> [この授業のウェブページ](https://www-tlab.math.ryukoku.ac.jp/wiki/?AdvML)\n",
        "\n",
        "\n"
      ]
    },
    {
      "cell_type": "markdown",
      "source": [
        "板書や口頭で補足する前提なので，この notebook だけでは説明が不完全です．\n"
      ],
      "metadata": {
        "id": "bStHGoTvH0gr"
      }
    },
    {
      "cell_type": "markdown",
      "source": [
        "---\n",
        "## 統計的識別入門 (2)\n",
        "---\n"
      ],
      "metadata": {
        "id": "qrKE45oj_dUr"
      }
    },
    {
      "cell_type": "markdown",
      "source": [
        "---\n",
        "### 準備\n"
      ],
      "metadata": {
        "id": "zl03icnhjxTD"
      }
    },
    {
      "cell_type": "code",
      "source": [
        "# 準備あれこれ\n",
        "import numpy as np\n",
        "import matplotlib.pyplot as plt\n",
        "import pandas as pd\n",
        "import seaborn\n",
        "seaborn.set()\n",
        "\n",
        "from scipy.stats import multivariate_normal\n",
        "from sklearn.mixture import GaussianMixture"
      ],
      "metadata": {
        "id": "CY8ptRIEj3eb"
      },
      "execution_count": null,
      "outputs": []
    },
    {
      "cell_type": "markdown",
      "source": [
        "---\n",
        "### 生成モデルを用いた識別の例1: 2次元データ"
      ],
      "metadata": {
        "id": "oOQtvf--E7W-"
      }
    },
    {
      "cell_type": "markdown",
      "source": [
        "2次元のデータを生成モデルを用いて識別する実験をやってみよう．\n",
        "\n",
        "まずは学習データの準備．"
      ],
      "metadata": {
        "id": "ymEFggDMk58b"
      }
    },
    {
      "cell_type": "code",
      "source": [
        "# データの読み込み\n",
        "K = 3 # クラス数\n",
        "D = 2 # 特徴次元数\n",
        "df = pd.read_csv('https://www-tlab.math.ryukoku.ac.jp/~takataka/course/AdvML/2dim3class.csv')\n",
        "\n",
        "X = df.drop(columns='label').to_numpy()\n",
        "y = df['label'].to_numpy()\n",
        "\n",
        "df"
      ],
      "metadata": {
        "id": "nn_DPWJojvuo"
      },
      "execution_count": null,
      "outputs": []
    },
    {
      "cell_type": "code",
      "source": [
        "# グラフを描く\n",
        "fig, ax = plt.subplots()\n",
        "for k in range(K):\n",
        "    ax.scatter(X[y==k, 0], X[y==k, 1], label=f'class{k}')\n",
        "xmin, xmax = -5, 5\n",
        "ymin, ymax = -5, 5\n",
        "ax.set_xlim(xmin, xmax)\n",
        "ax.set_ylim(ymin, ymax)\n",
        "ax.set_aspect('equal')\n",
        "ax.legend()\n",
        "plt.show()"
      ],
      "metadata": {
        "id": "v88lZrc-kK4Q"
      },
      "execution_count": null,
      "outputs": []
    },
    {
      "cell_type": "markdown",
      "source": [
        "事前確率は，学習データの出現頻度で推定することにする．"
      ],
      "metadata": {
        "id": "L_pk2PvUlEZr"
      }
    },
    {
      "cell_type": "code",
      "source": [
        "# 事前確率を推定\n",
        "py = np.empty(K)\n",
        "for k in range(K):\n",
        "    py[k] = np.sum(y==k) / len(y)\n",
        "print('### 事前確率')\n",
        "print('p(y) = ', py)\n"
      ],
      "metadata": {
        "id": "FRRYyMA5kkcC"
      },
      "execution_count": null,
      "outputs": []
    },
    {
      "cell_type": "markdown",
      "source": [
        "クラスごとの分布には2次元正規分布を当てはめる．"
      ],
      "metadata": {
        "id": "sEEiBVLqlSnj"
      }
    },
    {
      "cell_type": "code",
      "source": [
        "# p(x|y) を正規分布でモデル化（平均，共分散行列の推定）\n",
        "mu = np.empty((K, D))\n",
        "cov = np.empty((K, D, D))\n",
        "for k in range(K):\n",
        "    XX = X[y==k, :]\n",
        "    mu[k] = np.mean(XX, axis=0)\n",
        "    cov[k] = (XX - mu[k]).T @ (XX - mu[k]) / XX.shape[0]\n",
        "    print(f'### class {k} の正規分布のパラメータ')\n",
        "    print(mu[k])\n",
        "    print(cov[k])\n",
        "    print()"
      ],
      "metadata": {
        "id": "lzDlIhg0kl9v"
      },
      "execution_count": null,
      "outputs": []
    },
    {
      "cell_type": "markdown",
      "source": [
        "次のコードを実行すると，得られたモデルを用いて，2次元平面上の各点での事後確率を求め，それを可視化することができる．"
      ],
      "metadata": {
        "id": "InlwQbGRlgmD"
      }
    },
    {
      "cell_type": "code",
      "source": [
        "# グラフ描画用のグリッドデータの作成\n",
        "x_mesh, y_mesh = np.mgrid[xmin:xmax:0.02, ymin:ymax:0.02]\n",
        "X_mesh = np.dstack((x_mesh, y_mesh))\n",
        "\n",
        "# 事後確率の推定\n",
        "p = np.empty((K, X_mesh.shape[0]*X_mesh.shape[1]))\n",
        "for k in range(K):\n",
        "    p[k, :] = py[k] * multivariate_normal.pdf(X_mesh, mean=mu[k], cov=cov[k]).reshape(-1)\n",
        "p /= np.sum(p, axis=0)\n",
        "pp = p.reshape((K, X_mesh.shape[0], X_mesh.shape[1]))\n",
        "\n",
        "# グラフ\n",
        "fig = plt.figure(figsize=(9, 6))\n",
        "\n",
        "# Gaussian を当てはめた結果\n",
        "ax0 = fig.add_subplot(121)\n",
        "for k in range(K):\n",
        "    ax0.scatter(X[y==k, 0], X[y==k, 1])\n",
        "    ax0.contour(x_mesh, y_mesh, multivariate_normal.pdf(X_mesh, mean=mu[k], cov=cov[k]))\n",
        "ax0.set_xlim(xmin, xmax)\n",
        "ax0.set_ylim(ymin, ymax)\n",
        "ax0.set_aspect('equal')\n",
        "\n",
        "# 事後確率の可視化\n",
        "cmap = ['Blues', 'Oranges', 'Greens']\n",
        "ax1 = fig.add_subplot(122)\n",
        "for k in range(K):\n",
        "    ax1.scatter(X[y==k, 0], X[y==k, 1])\n",
        "    ax1.contourf(x_mesh, y_mesh, pp[k], levels=[0.4, 0.5, 0.6, 0.7, 0.8, 0.9, 1.0], cmap=cmap[k], alpha=0.3)\n",
        "ax1.set_xlim(xmin, xmax)\n",
        "ax1.set_ylim(ymin, ymax)\n",
        "ax1.set_aspect('equal')\n",
        "\n",
        "plt.show()"
      ],
      "metadata": {
        "id": "JNu-h0lhkxRQ"
      },
      "execution_count": null,
      "outputs": []
    },
    {
      "cell_type": "markdown",
      "source": [
        "---\n",
        "### 多次元正規分布についての補足"
      ],
      "metadata": {
        "id": "hKxBTMd-S49N"
      }
    },
    {
      "cell_type": "markdown",
      "source": [
        "$$\n",
        "p(\\mathbf{x}; \\mathbf{\\mu}, \\Sigma) = \\frac{1}{\\sqrt{(2\\pi)^D|\\Sigma|}} \\exp{ \\left( -\\frac{1}{2} (\\mathbf{x}-\\mathbf{\\mu})^{\\top}\\Sigma^{-1}(\\mathbf{x}-\\mathbf{\\mu}) \\right) }\n",
        "$$\n"
      ],
      "metadata": {
        "id": "adoI-DTvTBtl"
      }
    },
    {
      "cell_type": "markdown",
      "source": [
        "---\n",
        "### 生成モデルを用いた識別の例2: 手書き数字識別"
      ],
      "metadata": {
        "id": "3hvu-nCEWRbW"
      }
    },
    {
      "cell_type": "markdown",
      "source": [
        "手書き数字のデータを生成モデルを用いて識別する実験をやってみよう．\n",
        "\n",
        "まずは学習データの準備．"
      ],
      "metadata": {
        "id": "twRYq7BTYwzQ"
      }
    },
    {
      "cell_type": "code",
      "source": [
        "# 手書き数字データの入手\n",
        "! wget -nc https://www-tlab.math.ryukoku.ac.jp/~takataka/course/ML/minimnist.npz\n",
        "rv = np.load('minimnist.npz')\n",
        "datL = rv['datL'].astype(float)\n",
        "labL = rv['labL']\n",
        "datT = rv['datT'].astype(float)\n",
        "labT = rv['labT']\n",
        "print(datL.shape, labL.shape, datT.shape, labT.shape)\n",
        "\n",
        "K = 10 # クラス数\n",
        "\n",
        "# 学習データの用意\n",
        "NL, D = datL.shape # 学習データの数と次元数\n",
        "XL = datL/255\n",
        "yL = labL\n",
        "\n",
        "# テストデータの用意\n",
        "NT, _ = datT.shape # テストデータの数\n",
        "XT = datT/255\n",
        "yT = labT"
      ],
      "metadata": {
        "id": "AiL6DgF3WTdk"
      },
      "execution_count": null,
      "outputs": []
    },
    {
      "cell_type": "markdown",
      "source": [
        "学習データは 5000 個．データの次元数は 784．"
      ],
      "metadata": {
        "id": "reR9gJklY1cT"
      }
    },
    {
      "cell_type": "code",
      "source": [
        "# 事前確率を推定\n",
        "py = np.empty(K)\n",
        "for k in range(K):\n",
        "    py[k] = np.sum(yL==k) / NL\n",
        "print('### 事前確率')\n",
        "print('p(y) = ', py)"
      ],
      "metadata": {
        "id": "7ndvB2hSWuVc"
      },
      "execution_count": null,
      "outputs": []
    },
    {
      "cell_type": "markdown",
      "source": [
        "2次元の例では，クラスごとに正規分布を当てはめる際に，平均と分散共分散行列を定義通り求めていたが，ここでは [sklearn.mixture.GaussianMixture](https://scikit-learn.org/stable/modules/generated/sklearn.mixture.GaussianMixture.html) を用いることにする．\n",
        "そうする理由は後述する．\n",
        "\n",
        "GaussianMixture は，本来は混合正規分布（次回解説予定）のためのクラスであるが，`n_components=1` とすることで， 1つの正規分布を当てはめることができる．\n",
        "`covariance_type` や `reg_covar` というオプションの意味は後述する．"
      ],
      "metadata": {
        "id": "MupvpeIBZCVR"
      }
    },
    {
      "cell_type": "code",
      "source": [
        "# p(x|y) を正規分布でモデル化（平均，共分散行列の推定）\n",
        "mu = np.empty((K, D))\n",
        "Gaussian = np.empty(K, dtype=object)\n",
        "for k in range(K):\n",
        "    XX = XL[labL==k, :]\n",
        "    Gaussian[k] = GaussianMixture(n_components=1, covariance_type='full', reg_covar=1e-06)\n",
        "    Gaussian[k].fit(XX)\n",
        "    mu[k] = Gaussian[k].means_[0]"
      ],
      "metadata": {
        "id": "p-TESL6fW26d"
      },
      "execution_count": null,
      "outputs": []
    },
    {
      "cell_type": "markdown",
      "source": [
        "次のコードセルを実行すると，クラスごとの正規分布の平均を画像として可視化できる．"
      ],
      "metadata": {
        "id": "mIytTgeRaNE8"
      }
    },
    {
      "cell_type": "code",
      "source": [
        "# クラスごとの正規分布の平均を可視化\n",
        "fig, ax = plt.subplots(1, K, figsize=(8, 2))\n",
        "for k in range(K):\n",
        "    img = mu[k].reshape((28, 28))\n",
        "    ax[k].imshow(img, cmap=plt.cm.gray, vmin=0, vmax=1)\n",
        "    ax[k].axis('off')\n",
        "    ax[k].set_title(k)\n",
        "\n",
        "fig.tight_layout()\n",
        "plt.show()"
      ],
      "metadata": {
        "id": "9vf103BcXJQs"
      },
      "execution_count": null,
      "outputs": []
    },
    {
      "cell_type": "markdown",
      "source": [
        "学習データ，テストデータのそれぞれを識別させてみよう．"
      ],
      "metadata": {
        "id": "ZK3p2q76aVym"
      }
    },
    {
      "cell_type": "code",
      "source": [
        "### 学習データの識別\n",
        "\n",
        "# 対数尤度を算出\n",
        "LLL = np.empty([NL, K])\n",
        "for k in range(K):\n",
        "    # log p(y|x) = log p(y) + log p(x|y)\n",
        "    LLL[:, k] = np.log(py[k]) + Gaussian[k].score_samples(XL)\n",
        "\n",
        "# 尤度最大のクラスに識別\n",
        "y_predict = np.argmax(LLL, axis=1)\n",
        "ncL = np.sum(yL == y_predict)\n",
        "\n",
        "### テストデータの識別\n",
        "\n",
        "# 対数尤度を算出\n",
        "LLT = np.empty([NT, K])\n",
        "for k in range(K):\n",
        "    # log p(y|x) = log p(y) + log p(x|y)\n",
        "    LLT[:, k] = np.log(py[k]) + Gaussian[k].score_samples(XT)\n",
        "\n",
        "# 尤度最大のクラスに識別\n",
        "y_predict = np.argmax(LLT, axis=1)\n",
        "ncT = np.sum(yT == y_predict)\n",
        "\n",
        "print(f'学習: {ncL}/{NL} = {ncL/NL}')\n",
        "print(f'テスト: {ncT}/{NT} = {ncT/NT}')"
      ],
      "metadata": {
        "id": "9EP0zIxeXPPZ"
      },
      "execution_count": null,
      "outputs": []
    },
    {
      "cell_type": "markdown",
      "source": [
        "この問題の場合に分散共分散行列を定義通り計算するとうまくいかない理由は...\n",
        "\n",
        "分散共分散行列の正則化と `reg_covar`\n",
        "\n",
        "分散共分散行列の形を制約する話と `covariance_type`\n",
        "\n"
      ],
      "metadata": {
        "id": "dsJlGOZha238"
      }
    },
    {
      "cell_type": "markdown",
      "source": [
        "---\n",
        "### 判別分析や最短距離法との関係"
      ],
      "metadata": {
        "id": "kIod-NwdbdOC"
      }
    },
    {
      "cell_type": "code",
      "source": [],
      "metadata": {
        "id": "aKuwHvPQYG1O"
      },
      "execution_count": null,
      "outputs": []
    }
  ],
  "metadata": {
    "colab": {
      "provenance": [],
      "toc_visible": true,
      "include_colab_link": true
    },
    "kernelspec": {
      "display_name": "Python 3",
      "name": "python3"
    },
    "language_info": {
      "codemirror_mode": {
        "name": "ipython",
        "version": 3
      },
      "file_extension": ".py",
      "mimetype": "text/x-python",
      "name": "python",
      "nbconvert_exporter": "python",
      "pygments_lexer": "ipython3",
      "version": "3.9.7"
    }
  },
  "nbformat": 4,
  "nbformat_minor": 0
}