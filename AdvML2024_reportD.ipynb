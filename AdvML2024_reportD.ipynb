{
  "cells": [
    {
      "cell_type": "markdown",
      "metadata": {
        "id": "view-in-github",
        "colab_type": "text"
      },
      "source": [
        "<a href=\"https://colab.research.google.com/github/takatakamanbou/AdvML/blob/2024/AdvML2024_reportD.ipynb\" target=\"_parent\"><img src=\"https://colab.research.google.com/assets/colab-badge.svg\" alt=\"Open In Colab\"/></a>"
      ]
    },
    {
      "cell_type": "markdown",
      "metadata": {
        "id": "2UzDNLmVS3po"
      },
      "source": [
        "# AdvML reportD\n",
        "\n",
        "<img width=72 src=\"https://www-tlab.math.ryukoku.ac.jp/~takataka/course/AdvML/AdvML-logo.png\"> [この授業のウェブページ](https://www-tlab.math.ryukoku.ac.jp/wiki/?AdvML)\n",
        "\n",
        "\n"
      ]
    },
    {
      "cell_type": "markdown",
      "metadata": {
        "id": "gQ0oDxG3iygx"
      },
      "source": [
        "----\n",
        "## 準備\n",
        "----\n"
      ]
    },
    {
      "cell_type": "markdown",
      "source": [
        "今回の notebook で行う実験の中には，それなりに実行時間が長くなるものもある．GPU を利用した方が短い時間で済ませられるので，次のようにランタイムのタイプを変更しよう．\n",
        "\n",
        "1. Colab のメニューから「ランタイム」>「ランタイムのタイプを変更」>「CPU」に代えて「T4 GPU」を選択して「保存」\n",
        "1. ランタイムが初期化されるので，必要なら全てのコードセルを最初から実行し直す\n"
      ],
      "metadata": {
        "id": "4uxksuRYdI7i"
      }
    },
    {
      "cell_type": "code",
      "source": [
        "# 準備あれこれ\n",
        "import numpy as np\n",
        "import matplotlib.pyplot as plt\n",
        "import pandas as pd\n",
        "import seaborn\n",
        "seaborn.set()\n",
        "\n",
        "# scikit-learn のいろいろ\n",
        "from sklearn.datasets import fetch_openml\n",
        "from sklearn.model_selection import train_test_split\n",
        "\n",
        "# NumPy の 疑似乱数生成器（rng = random number generator）\n",
        "from numpy.random import default_rng\n",
        "rng = default_rng() # 疑似乱数生成器を初期化\n",
        "\n",
        "# PyTorch 関係のほげ\n",
        "import torch\n",
        "import torch.nn as nn\n",
        "import torch.nn.functional as F\n",
        "from torch.utils.data import Dataset, DataLoader\n",
        "from torchvision.transforms import ToTensor\n",
        "import torchsummary"
      ],
      "metadata": {
        "id": "RjLTO96x2EvK"
      },
      "execution_count": null,
      "outputs": []
    },
    {
      "cell_type": "markdown",
      "source": [
        "次のコードセルを実行して，`cuda` と表示されれば， PyTorch で GPU が使える状態になっている．`cpu` と表示される場合は，GPU が使えるようになっておらず，PyTorch のプログラムは CPU で実行される．\n"
      ],
      "metadata": {
        "id": "Oy3dG3U_AhlX"
      }
    },
    {
      "cell_type": "code",
      "source": [
        "device = torch.device('cuda:0' if torch.cuda.is_available() else 'cpu')\n",
        "print(device)"
      ],
      "metadata": {
        "id": "USuhbWT9avMx"
      },
      "execution_count": null,
      "outputs": []
    },
    {
      "cell_type": "markdown",
      "source": [
        "次のセルを実行すると，いつもの MNIST 手書き数字画像データセットを読み込む．\n",
        "本来のデータセットは，学習データ6万枚，テストデータ1万枚から成るが，ここでは学習データの一部2万枚を取り出し，そのうち1.6万枚を学習用に，残り4千枚をテスト用とする．"
      ],
      "metadata": {
        "id": "gBRevMdR_Q-h"
      }
    },
    {
      "cell_type": "code",
      "source": [
        "# MNIST データセットの入手\n",
        "Xraw, yraw = fetch_openml('mnist_784', version=1, parser='auto', return_X_y=True, as_frame=False)\n",
        "Xall = Xraw[:20000] / 255.0     # 画素値が [0, 255] の整数値なので [0, 1] の浮動小数点数値に変換\n",
        "yall = yraw[:20000].astype(int) # クラスラベル．0 から 9 の整数値\n",
        "\n",
        "# 学習データとテストデータの分割\n",
        "XL, XT, yL, yT = train_test_split(Xall, yall, test_size=4000, random_state=4649, stratify=yall)\n",
        "print(XL.shape, yL.shape)\n",
        "print(XT.shape, yT.shape)\n",
        "NL, D = XL.shape\n",
        "NT = len(XT)\n",
        "\n",
        "#K = 10\n",
        "\n",
        "# 平均を引いたデータを用意\n",
        "Xm = np.mean(XL, axis=0)\n",
        "XL2 = XL - Xm\n",
        "XT2 = XT - Xm"
      ],
      "metadata": {
        "id": "OFVRD2hP5Eof"
      },
      "execution_count": null,
      "outputs": []
    },
    {
      "cell_type": "markdown",
      "source": [
        "---\n",
        "## PCA, AE, VAEによる手書き数字画像の再構成と生成\n",
        "---"
      ],
      "metadata": {
        "id": "kod17zoM-rde"
      }
    },
    {
      "cell_type": "markdown",
      "source": [
        "---\n",
        "### PCAの実験"
      ],
      "metadata": {
        "id": "kqbOY1o7_wba"
      }
    },
    {
      "cell_type": "markdown",
      "source": [
        "#### 学習"
      ],
      "metadata": {
        "id": "GZmUjvne_01N"
      }
    },
    {
      "cell_type": "markdown",
      "source": [
        "次のセルを実行すると，PCAの学習，すなわち，学習データの分散共分散行列の固有値と固有ベクトルを求める計算を行う．"
      ],
      "metadata": {
        "id": "LXNyRtf-AIRa"
      }
    },
    {
      "cell_type": "code",
      "source": [
        "# 平均を引いたデータ行列をSVD\n",
        "_, sva, Vt = np.linalg.svd(XL2, full_matrices=False)\n",
        "eva = sva**2/len(XL2)  # 分散共分散行列の固有値\n",
        "U = Vt                 # 同固有ベクトルをならべた行列\n",
        "\n",
        "# 固有値の大きい方 10 個の値\n",
        "print(eva[:10])"
      ],
      "metadata": {
        "id": "KfY4oORnS9Nk"
      },
      "execution_count": null,
      "outputs": []
    },
    {
      "cell_type": "markdown",
      "source": [
        "次のセルを実行すると，固有値や累積寄与率をグラフに描く．"
      ],
      "metadata": {
        "id": "LkKX3uQbAR2v"
      }
    },
    {
      "cell_type": "code",
      "source": [
        "### 固有値と累積寄与率のグラフ\n",
        "#\n",
        "cumeva = np.cumsum(eva)\n",
        "cumeva /= cumeva[-1]\n",
        "\n",
        "# グラフ\n",
        "fig = plt.figure(figsize=(10, 6))\n",
        "# 固有値\n",
        "ax1 = fig.add_subplot(221)\n",
        "ax1.plot(np.arange(len(eva))+1, eva, label='eigenvalues')\n",
        "ax1.axhline(0, color='gray')\n",
        "ax1.legend()\n",
        "# 固有値（次元数の範囲を限定）\n",
        "ax2 = fig.add_subplot(222)\n",
        "ax2.plot(np.arange(len(eva))+1, eva, '.', label='eigenvalues')\n",
        "ax2.axhline(0, color='gray')\n",
        "ax2.set_xlim(-5, 100)\n",
        "ax2.legend()\n",
        "# 累積寄与率\n",
        "ax3 = fig.add_subplot(223)\n",
        "ax3.plot(np.arange(len(eva))+1, cumeva, label='cumulative contribution rate')\n",
        "ax3.axhline(1, color='gray')\n",
        "ax3.axhline(0.9, color='gray', linestyle='--')\n",
        "ax3.axhline(0.8, color='gray', linestyle='--')\n",
        "ax3.legend()\n",
        "# 累積寄与率（次元数の範囲を限定）\n",
        "ax4 = fig.add_subplot(224)\n",
        "ax4.plot(np.arange(len(eva))+1, cumeva, '.', label='cumulative contribution rate')\n",
        "ax4.axhline(1, color='gray')\n",
        "ax4.axhline(0.9, color='gray', linestyle='--')\n",
        "ax4.axhline(0.8, color='gray', linestyle='--')\n",
        "ax4.set_xlim(-5, 100)\n",
        "ax4.legend()\n",
        "fig.tight_layout()\n",
        "plt.show()"
      ],
      "metadata": {
        "id": "t97COOTCS9Nv"
      },
      "execution_count": null,
      "outputs": []
    },
    {
      "cell_type": "markdown",
      "source": [
        "#### 再構成"
      ],
      "metadata": {
        "id": "8Prbcyac_9x7"
      }
    },
    {
      "cell_type": "markdown",
      "source": [
        "学習データとテストデータを次元削減してから再構成する．削減後の次元数を変えながら再構成誤差を求める．\n",
        "`L` と付いているのが学習データの値，`T` と付いているのがテストデータの値．"
      ],
      "metadata": {
        "id": "bG91aZXQAXP8"
      }
    },
    {
      "cell_type": "code",
      "source": [
        "### 次元数を変えながら学習データ/テストデータを再構成して二乗誤差を計算\n",
        "\n",
        "# データを変換\n",
        "ZL = XL2 @ U.T\n",
        "ZT = XT2 @ U.T\n",
        "\n",
        "# 次元数 H の設定\n",
        "HList = np.hstack((\n",
        "    [0], np.arange(1, 30), np.arange(30, 50, 5),\n",
        "    np.arange(50, 100, 10), np.arange(100, 500, 50),  [D]\n",
        "))\n",
        "\n",
        "# 平均二乗誤差の配列\n",
        "mseL = np.zeros(len(HList))\n",
        "mseT = np.zeros(len(HList))\n",
        "\n",
        "print('H    mseL    mseT')\n",
        "for i, H in enumerate(HList):\n",
        "    # H次元で再構成\n",
        "    XXL = ZL[:, :H] @ U[:H, :]\n",
        "    XXT = ZT[:, :H] @ U[:H, :]\n",
        "    # 元画像と再構成との間の平均二乗誤差\n",
        "    mseL[i] = np.mean((XL2 - XXL)**2)\n",
        "    mseT[i] = np.mean((XT2 - XXT)**2)\n",
        "    print(f'{H} {mseL[i]:.6f}   {mseT[i]:.6f}')\n",
        "\n",
        "# 二乗誤差をグラフに描く\n",
        "fig = plt.figure(figsize=(6, 4))\n",
        "ax1 = fig.add_subplot(111)\n",
        "ax1.plot(HList, mseL, '.', label='reconstruction error (L)')\n",
        "ax1.plot(HList, mseT, '.', label='reconstruction error (T)')\n",
        "ax1.axhline(0, color='gray')\n",
        "ax1.set_xlim(-5, 105)\n",
        "ax1.set_ylim(0, 0.05)\n",
        "ax1.legend()\n",
        "plt.show()"
      ],
      "metadata": {
        "id": "sYEKMagbTOMu"
      },
      "execution_count": null,
      "outputs": []
    },
    {
      "cell_type": "markdown",
      "source": [
        "削減後の次元数を `H = 30` として，学習データとテストデータの再構成誤差を求めるとともに，テストデータの一部を再構成した画像を表示する．"
      ],
      "metadata": {
        "id": "dk_A8x6UApFT"
      }
    },
    {
      "cell_type": "code",
      "source": [
        "# 次元数\n",
        "H = 30\n",
        "\n",
        "# データを H 次元に次元削減\n",
        "ZL = XL2 @ U[:H, :].T\n",
        "ZT = XT2 @ U[:H, :].T\n",
        "\n",
        "# 再構成\n",
        "XXL = ZL @ U[:H, :] + Xm\n",
        "XXT = ZT @ U[:H, :] + Xm\n",
        "\n",
        "# 再構成誤差\n",
        "mseL = np.mean((XL - XXL)**2)\n",
        "mseT = np.mean((XT - XXT)**2)\n",
        "print(f'H = {H}')\n",
        "print(f'reconstruction error (L) = {mseL:.6f}')\n",
        "print(f'reconstruction error (T) = {mseT:.6f}')\n",
        "\n",
        "# 再構成したテストデータの最初の15枚を可視化\n",
        "ncol = 15\n",
        "fig, ax = plt.subplots(2, ncol, figsize=(8.0, 8.0/ncol*2.5))\n",
        "\n",
        "# 元画像\n",
        "for j in range(ncol):\n",
        "    img = XT[j, ::].reshape((28, 28))\n",
        "    ax[0, j].imshow(img, cmap=plt.cm.gray, vmin=0, vmax=1)\n",
        "    ax[0, j].axis('off')\n",
        "\n",
        "# 再構成した画像\n",
        "for j in range(ncol):\n",
        "    img = XXT[j, ::].reshape((28, 28))\n",
        "    ax[1, j].imshow(img, cmap=plt.cm.gray, vmin=0, vmax=1)\n",
        "    ax[1, j].axis('off')\n",
        "\n",
        "fig.tight_layout()\n",
        "plt.show()"
      ],
      "metadata": {
        "id": "YHgaiI5lTOMv"
      },
      "execution_count": null,
      "outputs": []
    },
    {
      "cell_type": "markdown",
      "source": [
        "#### 生成"
      ],
      "metadata": {
        "id": "3WsYTreSA4cC"
      }
    },
    {
      "cell_type": "markdown",
      "source": [
        "`H` 次元への変換によって得られる変数が正規分布に従うと仮定して，学習データを用いてそのパラメータ（平均と分散共分散行列）を推定する．そのパラメータを用いて正規分布の乱数を生成し，それを再構成した画像を描く．"
      ],
      "metadata": {
        "id": "DncO3RDtA-r4"
      }
    },
    {
      "cell_type": "code",
      "source": [
        "# 生成\n",
        "mu = np.zeros(H)\n",
        "cov = np.diag(eva[:H])\n",
        "Z = rng.multivariate_normal(np.zeros(H), cov, 50)\n",
        "XX = Z @ U[:H, :] + Xm\n",
        "\n",
        "# 生成した画像50枚を可視化\n",
        "nrow, ncol = 5, 10\n",
        "fig, ax = plt.subplots(nrow, ncol, figsize=(8.0, 8.0/ncol*nrow))\n",
        "for i in range(nrow):\n",
        "    for j in range(ncol):\n",
        "        img = XX[i*ncol + j, ::].reshape((28, 28))\n",
        "        ax[i, j].imshow(img, cmap=plt.cm.gray, vmin=0, vmax=1)\n",
        "        ax[i, j].axis('off')\n",
        "\n",
        "fig.tight_layout()\n",
        "plt.show()"
      ],
      "metadata": {
        "id": "rgNkqpk7TOMv"
      },
      "execution_count": null,
      "outputs": []
    },
    {
      "cell_type": "markdown",
      "source": [
        "---\n",
        "### 全結合型AEの実験"
      ],
      "metadata": {
        "id": "bC-ckEVfDYoH"
      }
    },
    {
      "cell_type": "markdown",
      "source": [
        "オートエンコーダを用いてPCAと同様の実験を行う．\n"
      ],
      "metadata": {
        "id": "NWAjlKTbDeP7"
      }
    },
    {
      "cell_type": "markdown",
      "source": [
        "#### 準備"
      ],
      "metadata": {
        "id": "4IofHruqExe4"
      }
    },
    {
      "cell_type": "markdown",
      "source": [
        "クラスと関数をいくつか．このセクションのあとの別の実験でも利用する．"
      ],
      "metadata": {
        "id": "EGbCB9UeFlg8"
      }
    },
    {
      "cell_type": "code",
      "source": [
        "# データを扱うためのクラス\n",
        "#\n",
        "class MMDataset(Dataset):\n",
        "\n",
        "    def __init__(self, dataX, nrow=28, ncol=28, flatten=True):\n",
        "        assert dataX.ndim == 2 and dataX.shape[1] == nrow*ncol\n",
        "        if flatten:\n",
        "            self.X = dataX\n",
        "        else:\n",
        "            self.X = dataX.reshape((-1, 1, nrow, ncol))\n",
        "        print(self.X.shape)\n",
        "\n",
        "    def __len__(self):\n",
        "        return len(self.X)\n",
        "\n",
        "    def __getitem__(self, idx):\n",
        "        X = torch.tensor(self.X[idx], dtype=torch.float32)\n",
        "        return X"
      ],
      "metadata": {
        "id": "Bju37MFmwMNw"
      },
      "execution_count": null,
      "outputs": []
    },
    {
      "cell_type": "code",
      "source": [
        "# 学習の関数\n",
        "#\n",
        "def trainAE(model, optimizer, dl):\n",
        "    loss_sum = 0.0\n",
        "    n = 0\n",
        "    for i, X in enumerate(dl):\n",
        "        X = X.to(device)\n",
        "        Xt = model(X)         # 一つのバッチ X を入力して出力 Xt を計算\n",
        "        loss = model.loss(Xt, X) # 入力 X を正解として loss を計算\n",
        "        optimizer.zero_grad()   # 勾配をリセット\n",
        "        loss.backward()         # 誤差逆伝播でパラメータ更新量を計算\n",
        "        optimizer.step()         # パラメータを更新\n",
        "        n += len(X)\n",
        "        loss_sum += loss.item()  # 損失関数の値\n",
        "\n",
        "    return loss_sum/n\n",
        "\n",
        "# 損失関数の値を求める関数\n",
        "#\n",
        "@torch.no_grad()\n",
        "def evaluateAE(model, dl):\n",
        "    loss_sum = 0.0\n",
        "    n = 0\n",
        "    for i, X in enumerate(dl):\n",
        "        X = X.to(device)\n",
        "        Xt = model(X)           # 一つのバッチ X を入力して出力 Xt を計算\n",
        "        loss = model.loss(Xt, X)  # 入力 X を正解として loss を計算\n",
        "        n += len(X)\n",
        "        loss_sum += loss.item() # 損失関数の値\n",
        "\n",
        "    return loss_sum/n"
      ],
      "metadata": {
        "id": "PaWzPM4nbifm"
      },
      "execution_count": null,
      "outputs": []
    },
    {
      "cell_type": "markdown",
      "source": [
        "#### ネットワーク構造の定義"
      ],
      "metadata": {
        "id": "fl8-wcKDF8dc"
      }
    },
    {
      "cell_type": "markdown",
      "source": [
        "このセクションでは，次の構成の階層型ニューラルネットでオートエンコーダを構成する．\n",
        "全ての層が全結合層でできているので，ここではこれを全結合型AEと呼ぶことにする．\n",
        "\n",
        "- エンコーダ: 入力 784 次元 → 隠れ層1（ニューロン数 `dimHidden`，非線形） → 隠れ層2（隠れ層1と同様） → 出力層（ニューロン数 `H`，線形）\n",
        "- デコーダ: 入力 `H` 次元 → 隠れ層1（ニューロン数 `dimHidden`，非線形） → 隠れ層2（隠れ層1と同様） → 出力層（ニューロン数 784，線形）"
      ],
      "metadata": {
        "id": "WagyL3UYGGHg"
      }
    },
    {
      "cell_type": "code",
      "source": [
        "# 全結合型オートエンコーダ\n",
        "#\n",
        "class AutoEncoder(nn.Module):\n",
        "\n",
        "    def __init__(self, dimX, dimHidden, dimZ):\n",
        "        super(AutoEncoder, self).__init__()\n",
        "        # Encoder\n",
        "        self.encoder = nn.Sequential(\n",
        "            nn.Linear(dimX, dimHidden), nn.LeakyReLU(),\n",
        "            nn.Linear(dimHidden, dimHidden), nn.LeakyReLU(),\n",
        "            nn.Linear(dimHidden, dimZ),\n",
        "        )\n",
        "        # Decoder\n",
        "        self.decoder = nn.Sequential(\n",
        "            nn.Linear(dimZ, dimHidden), nn.LeakyReLU(),\n",
        "            nn.Linear(dimHidden, dimHidden), nn.LeakyReLU(),\n",
        "            nn.Linear(dimHidden, dimX),\n",
        "        )\n",
        "\n",
        "    def forward(self, X):\n",
        "        Z = self.encoder(X)\n",
        "        Xt = self.decoder(Z)\n",
        "        return Xt\n",
        "\n",
        "    def loss(self, Xt, X):\n",
        "        return F.mse_loss(Xt, X, reduction='sum')"
      ],
      "metadata": {
        "id": "TITEhqw337av"
      },
      "execution_count": null,
      "outputs": []
    },
    {
      "cell_type": "markdown",
      "source": [
        "#### 学習"
      ],
      "metadata": {
        "id": "6aZMtk3LGadg"
      }
    },
    {
      "cell_type": "markdown",
      "source": [
        "次のセルは，`dimHidden = 200, H = 30` の全結合型AEの学習を行う．"
      ],
      "metadata": {
        "id": "EECB5CHXGcmc"
      }
    },
    {
      "cell_type": "code",
      "source": [
        "# データ読み込みの仕組みを作る\n",
        "dsL = MMDataset(XL2, flatten=True)\n",
        "dsT = MMDataset(XT2, flatten=True)\n",
        "dlL = DataLoader(dsL, batch_size=100, shuffle=True)\n",
        "dlT = DataLoader(dsT, batch_size=100, shuffle=False)\n",
        "\n",
        "# ネットワークモデルの定義\n",
        "H = 30\n",
        "dimHidden = 200\n",
        "nae = AutoEncoder(D, dimHidden, H).to(device)\n",
        "\n",
        "# パラメータ最適化器の設定\n",
        "optimizer = torch.optim.Adam(nae.parameters(), lr=1e-3)\n",
        "\n",
        "# 学習の繰り返し回数\n",
        "nepoch = 100\n",
        "\n",
        "# ネットワークの構造を表示\n",
        "torchsummary.summary(nae, (1, D))\n",
        "\n",
        "# 学習\n",
        "L = []\n",
        "print(f'学習データ数: {len(dsL)}  テストデータ数: {len(dsT)}')\n",
        "print()\n",
        "print('# epoch  lossL  lossT')\n",
        "for t in range(1, nepoch+1):\n",
        "    lossL = trainAE(nae, optimizer, dlL) / D\n",
        "    lossT = evaluateAE(nae, dlT) / D\n",
        "    L.append([t, lossL, lossT])\n",
        "    if (t < 10) or (t % 10 == 0):\n",
        "        print(f'{t}   {lossL:.5f}   {lossT:.5f}')\n",
        "\n",
        "# 学習曲線の表示\n",
        "data = np.array(L)\n",
        "fig, ax = plt.subplots(1, 1)\n",
        "ax.plot(data[:, 0], data[:, 1], '.-', label='loss for training data')\n",
        "ax.plot(data[:, 0], data[:, 2], '.-', label='loss for test data')\n",
        "ax.axhline(0.0, color='gray')\n",
        "ax.legend()\n",
        "ax.set_title(f'loss')\n",
        "plt.show()"
      ],
      "metadata": {
        "id": "rvdYr4JHammc"
      },
      "execution_count": null,
      "outputs": []
    },
    {
      "cell_type": "markdown",
      "source": [
        "#### 再構成"
      ],
      "metadata": {
        "id": "SuP3tfefHAaU"
      }
    },
    {
      "cell_type": "markdown",
      "source": [
        "PCA と同様に再構成誤差を求め，一部のデータを再構成した結果を表示する．"
      ],
      "metadata": {
        "id": "IbGoLZD7HOfN"
      }
    },
    {
      "cell_type": "code",
      "source": [
        "# 学習後の再構成誤差\n",
        "mseL = evaluateAE(nae, dlL) / D\n",
        "mseT = evaluateAE(nae, dlT) / D\n",
        "\n",
        "print(f'H = {H}')\n",
        "print(f'reconstruction error (L) = {mseL:.6f}')\n",
        "print(f'reconstruction error (T) = {mseT:.6f}')\n",
        "\n",
        "# テストデータ1バッチ分の再構成\n",
        "for i, X in enumerate(dlT):\n",
        "    X = X.to(device)\n",
        "    Xt = nae(X)\n",
        "    break\n",
        "XX    = X.to('cpu').detach().numpy() + Xm\n",
        "XXrec = Xt.to('cpu').detach().numpy() + Xm\n",
        "\n",
        "# 再構成したテストデータの最初の10枚を可視化\n",
        "ncol = 15\n",
        "fig, ax = plt.subplots(2, ncol, figsize=(8.0, 8.0/ncol*2.5))\n",
        "\n",
        "# 元画像\n",
        "for j in range(ncol):\n",
        "    img = XX[j, ::].reshape((28, 28))\n",
        "    ax[0, j].imshow(img, cmap=plt.cm.gray, vmin=0, vmax=1)\n",
        "    ax[0, j].axis('off')\n",
        "\n",
        "# 再構成した画像\n",
        "for j in range(ncol):\n",
        "    img = XXrec[j, ::].reshape((28, 28))\n",
        "    ax[1, j].imshow(img, cmap=plt.cm.gray, vmin=0, vmax=1)\n",
        "    ax[1, j].axis('off')\n",
        "\n",
        "fig.tight_layout()\n",
        "plt.show()"
      ],
      "metadata": {
        "id": "oBV81RlUgI6p"
      },
      "execution_count": null,
      "outputs": []
    },
    {
      "cell_type": "markdown",
      "source": [
        "#### 生成"
      ],
      "metadata": {
        "id": "-087ZjxBHgm4"
      }
    },
    {
      "cell_type": "markdown",
      "source": [
        "エンコーダの出力（`H` 次元）が正規分布に従うと仮定して，学習データを用いてそのパラメータ（平均と分散共分散行列）を推定する．そのパラメータを用いて正規分布の乱数を生成し，それをデコーダに入力して再構成した画像を描く．"
      ],
      "metadata": {
        "id": "SdIkeg8oHqad"
      }
    },
    {
      "cell_type": "code",
      "source": [
        "##### 生成\n",
        "\n",
        "# 学習データの特徴量を求める\n",
        "Z = np.empty((len(dsL), H))\n",
        "n = 0\n",
        "for i, X in enumerate(dlL):\n",
        "    X = X.to(device)\n",
        "    Z[n:n+len(X)] = nae.encoder(X).cpu().detach().numpy()\n",
        "    n += len(X)\n",
        "\n",
        "# その平均と分散共分散行列\n",
        "Zmu = np.mean(Z, axis=0)\n",
        "Zcov = np.cov(Z.T)\n",
        "print(Zmu.shape, Zcov.shape)\n",
        "\n",
        "# 平均 Zmu 分散共分散行列 Zcov の正規分布から Z をサンプリングし，画像を生成\n",
        "Zgen = rng.multivariate_normal(Zmu, Zcov, 50)\n",
        "Zgen = torch.tensor(Zgen.astype(np.float32)).to(device)\n",
        "XXrec = nae.decoder(Zgen)\n",
        "XXrec = XXrec.cpu().detach().numpy() + Xm\n",
        "print(XXrec.shape)\n",
        "\n",
        "# 生成した画像50枚を可視化\n",
        "nrow, ncol = 5, 10\n",
        "fig, ax = plt.subplots(nrow, ncol, figsize=(8.0, 8.0/ncol*nrow))\n",
        "for i in range(nrow):\n",
        "    for j in range(ncol):\n",
        "        img = XXrec[i*ncol + j, ::].reshape((28, 28))\n",
        "        ax[i, j].imshow(img, cmap=plt.cm.gray, vmin=0, vmax=1)\n",
        "        ax[i, j].axis('off')\n",
        "\n",
        "fig.tight_layout()\n",
        "plt.show()"
      ],
      "metadata": {
        "id": "Y0p6PHL3guSi"
      },
      "execution_count": null,
      "outputs": []
    },
    {
      "cell_type": "markdown",
      "source": [
        "---\n",
        "### 畳み込みAEの実験"
      ],
      "metadata": {
        "id": "9qanCfFOIKm8"
      }
    },
    {
      "cell_type": "markdown",
      "source": [
        "#### ネットワーク構造の定義"
      ],
      "metadata": {
        "id": "pqTPi505ITN3"
      }
    },
    {
      "cell_type": "markdown",
      "source": [
        "このセクションでは，畳み込みとその逆変換に相当する演算を用いるニューラルネットでオートエンコーダを構成する．\n",
        "ここではこのようなオートエンコーダを畳み込みAEと呼ぶ．\n",
        "具体的なネットワーク構造の説明は省略するが，大まかには次のようなものである．興味があれば以下のコメントを参考に調べてね．\n",
        "\n",
        "- エンコーダ: 2つの畳み込み層のあとに2つの全結合層を持ち，(チャンネル数, 高さ, 幅) = (1, 28, 28) という shape の画像を `H` 個の実数値に符号化する．\n",
        "- デコーダ: `H` 個の実数値を入力と同じ shape の画像に再構成する．\n"
      ],
      "metadata": {
        "id": "eojj9e3fIZD5"
      }
    },
    {
      "cell_type": "code",
      "source": [
        "### 畳み込みオートエンコーダ\n",
        "\n",
        "# Encoder\n",
        "class ConvAE_Encoder(nn.Module):\n",
        "\n",
        "    def __init__(self, dimZ):\n",
        "        super(ConvAE_Encoder, self).__init__()\n",
        "        self.encoder = nn.Sequential(\n",
        "            # conv1 (1, 28, 28) => (16, 14, 14)\n",
        "            nn.Conv2d(1, 16, kernel_size=3, stride=2, padding=1),\n",
        "            nn.LeakyReLU(),\n",
        "            # conv2 (16, 14, 14) => (32, 7, 7)\n",
        "            nn.Conv2d(16, 32, kernel_size=3, stride=2, padding=1),\n",
        "            nn.LeakyReLU(),\n",
        "        )\n",
        "        self.fc = nn.Sequential(\n",
        "            # flatten (32, 7, 7) => 1568\n",
        "            nn.Flatten(),\n",
        "            # fc1 1568 => 200\n",
        "            nn.Linear(32*7*7, 200),\n",
        "            nn.LeakyReLU(),\n",
        "            # fc2 200 => dimZ\n",
        "            nn.Linear(200, dimZ)\n",
        "        )\n",
        "\n",
        "    def forward(self, X):\n",
        "        Y = self.encoder(X)\n",
        "        Z = self.fc(Y)\n",
        "        return Z\n",
        "\n",
        "\n",
        "# Decoder\n",
        "class ConvAE_Decoder(nn.Module):\n",
        "\n",
        "    def __init__(self, dimZ):\n",
        "        super(ConvAE_Decoder, self).__init__()\n",
        "        self.fc = nn.Sequential(\n",
        "            # fc1 dimZ => 200\n",
        "            nn.Linear(dimZ, 200),\n",
        "            nn.LeakyReLU(),\n",
        "            # fc2 200 => 1568\n",
        "            nn.Linear(200, 32*7*7),\n",
        "            nn.LeakyReLU(),\n",
        "            # unflatten 1568 => (32, 7, 7)\n",
        "            nn.Unflatten(-1, (32, 7, 7)),\n",
        "        )\n",
        "        self.decoder = nn.Sequential(\n",
        "            # convT1 (32, 7, 7) => (16, 14, 14)\n",
        "            nn.ConvTranspose2d(32, 16, kernel_size=3, stride=2, padding=1, output_padding=1),\n",
        "            nn.LeakyReLU(),\n",
        "            # convT2 (16, 14, 14) => (1, 28, 28)\n",
        "            nn.ConvTranspose2d(16, 1, kernel_size=3, stride=2, padding=1, output_padding=1),\n",
        "        )\n",
        "\n",
        "    def forward(self, Z):\n",
        "        Y = self.fc(Z)\n",
        "        Xt = self.decoder(Y)\n",
        "        return Xt\n",
        "\n",
        "\n",
        "# ConvAE\n",
        "class ConvAE(nn.Module):\n",
        "\n",
        "    def __init__(self, dimZ):\n",
        "        super(ConvAE, self).__init__()\n",
        "        self.encoder = ConvAE_Encoder(dimZ)\n",
        "        self.decoder = ConvAE_Decoder(dimZ)\n",
        "\n",
        "    def forward(self, X):\n",
        "        Z = self.encoder(X)\n",
        "        Xt = self.decoder(Z)\n",
        "        return Xt\n",
        "\n",
        "    def loss(self, X, Xt):\n",
        "        return F.mse_loss(Xt, X, reduction='sum')"
      ],
      "metadata": {
        "id": "oH0NFhVsi-Cy"
      },
      "execution_count": null,
      "outputs": []
    },
    {
      "cell_type": "markdown",
      "source": [
        "#### 学習"
      ],
      "metadata": {
        "id": "AyxhM1KLJyak"
      }
    },
    {
      "cell_type": "markdown",
      "source": [
        "次のセルは，`H = 30` の畳み込みAEの学習を行う．"
      ],
      "metadata": {
        "id": "lw6heZnCJ-kh"
      }
    },
    {
      "cell_type": "code",
      "source": [
        "# データ読み込みの仕組みを作る\n",
        "ds2L = MMDataset(XL2, flatten=False)\n",
        "ds2T = MMDataset(XT2, flatten=False)\n",
        "dl2L = DataLoader(ds2L, batch_size=100, shuffle=True)\n",
        "dl2T = DataLoader(ds2T, batch_size=100, shuffle=False)\n",
        "\n",
        "# ネットワークモデルの定義\n",
        "H = 30\n",
        "cae = ConvAE(H).to(device)\n",
        "\n",
        "# パラメータ最適化器の設定\n",
        "optimizer = torch.optim.Adam(cae.parameters(), lr=1e-3)\n",
        "\n",
        "# 学習の繰り返し回数\n",
        "nepoch = 100\n",
        "\n",
        "# ネットワークの構造を表示\n",
        "torchsummary.summary(cae, (1, 28, 28))\n",
        "\n",
        "# 学習\n",
        "L = []\n",
        "print(f'学習データ数: {len(ds2L)}  テストデータ数: {len(ds2T)}')\n",
        "print()\n",
        "print('# epoch  lossL  lossT')\n",
        "for t in range(1, nepoch+1):\n",
        "    lossL = trainAE(cae, optimizer, dl2L) / D\n",
        "    lossT = evaluateAE(cae, dl2T) / D\n",
        "    L.append([t, lossL, lossT])\n",
        "    if (t < 10) or (t % 10 == 0):\n",
        "        print(f'{t}   {lossL:.5f}   {lossT:.5f}')\n",
        "\n",
        "# 学習曲線の表示\n",
        "data = np.array(L)\n",
        "fig, ax = plt.subplots(1, 1)\n",
        "ax.plot(data[:, 0], data[:, 1], '.-', label='loss for training data')\n",
        "ax.plot(data[:, 0], data[:, 2], '.-', label='loss for test data')\n",
        "ax.axhline(0.0, color='gray')\n",
        "ax.legend()\n",
        "ax.set_title(f'loss')\n",
        "plt.show()"
      ],
      "metadata": {
        "id": "TTAFQI11jluj"
      },
      "execution_count": null,
      "outputs": []
    },
    {
      "cell_type": "markdown",
      "source": [
        "#### 再構成"
      ],
      "metadata": {
        "id": "E1JbPxtJK5c5"
      }
    },
    {
      "cell_type": "code",
      "source": [
        "# 学習後の再構成誤差\n",
        "mseL = evaluateAE(cae, dl2L) / D\n",
        "mseT = evaluateAE(cae, dl2T) / D\n",
        "\n",
        "print(f'H = {H}')\n",
        "print(f'reconstruction error (L) = {mseL:.6f}')\n",
        "print(f'reconstruction error (T) = {mseT:.6f}')\n",
        "\n",
        "# テストデータ1バッチ分の再構成\n",
        "for i, X in enumerate(dl2T):\n",
        "    X = X.to(device)\n",
        "    Xt = cae(X)\n",
        "    break\n",
        "XX    = X.view(-1, D).to('cpu').detach().numpy() + Xm\n",
        "XXrec = Xt.view(-1, D).to('cpu').detach().numpy() + Xm\n",
        "\n",
        "# 再構成したテストデータの最初の10枚を可視化\n",
        "ncol = 15\n",
        "fig, ax = plt.subplots(2, ncol, figsize=(8.0, 8.0/ncol*2.5))\n",
        "\n",
        "# 元画像\n",
        "for j in range(ncol):\n",
        "    img = XX[j, ::].reshape((28, 28))\n",
        "    ax[0, j].imshow(img, cmap=plt.cm.gray, vmin=0, vmax=1)\n",
        "    ax[0, j].axis('off')\n",
        "\n",
        "# 再構成した画像\n",
        "for j in range(ncol):\n",
        "    img = XXrec[j, ::].reshape((28, 28))\n",
        "    ax[1, j].imshow(img, cmap=plt.cm.gray, vmin=0, vmax=1)\n",
        "    ax[1, j].axis('off')\n",
        "\n",
        "fig.tight_layout()\n",
        "plt.show()"
      ],
      "metadata": {
        "id": "ILHTB1XWlkOX"
      },
      "execution_count": null,
      "outputs": []
    },
    {
      "cell_type": "markdown",
      "source": [
        "#### 生成"
      ],
      "metadata": {
        "id": "3fV50wmjK9GA"
      }
    },
    {
      "cell_type": "markdown",
      "source": [
        "全結合型AEと同様の方法で画像を生成する．"
      ],
      "metadata": {
        "id": "tTE90nl0K-2E"
      }
    },
    {
      "cell_type": "code",
      "source": [
        "##### 生成\n",
        "\n",
        "# 学習データの特徴量を求める\n",
        "Z = np.empty((len(ds2L), H))\n",
        "n = 0\n",
        "for i, X in enumerate(dl2L):\n",
        "    X = X.to(device)\n",
        "    Z[n:n+len(X)] = cae.encoder(X).cpu().detach().numpy()\n",
        "    n += len(X)\n",
        "\n",
        "# その平均と分散共分散行列\n",
        "Zmu = np.mean(Z, axis=0)\n",
        "Zcov = np.cov(Z.T)\n",
        "print(Zmu.shape, Zcov.shape)\n",
        "\n",
        "# 平均 Zmu 分散共分散行列 Zcov の正規分布から Z をサンプリングし，画像を生成\n",
        "Zgen = rng.multivariate_normal(Zmu, Zcov, 50)\n",
        "Zgen = torch.tensor(Zgen.astype(np.float32)).to(device)\n",
        "XXrec = cae.decoder(Zgen).view(-1, D)\n",
        "XXrec = XXrec.cpu().detach().numpy() + Xm\n",
        "print(XXrec.shape)\n",
        "\n",
        "# 生成した画像50枚を可視化\n",
        "nrow, ncol = 5, 10\n",
        "fig, ax = plt.subplots(nrow, ncol, figsize=(8.0, 8.0/ncol*nrow))\n",
        "for i in range(nrow):\n",
        "    for j in range(ncol):\n",
        "        img = XXrec[i*ncol + j, ::].reshape((28, 28))\n",
        "        ax[i, j].imshow(img, cmap=plt.cm.gray, vmin=0, vmax=1)\n",
        "        ax[i, j].axis('off')\n",
        "\n",
        "fig.tight_layout()\n",
        "plt.show()"
      ],
      "metadata": {
        "id": "k52L08w2pXtd"
      },
      "execution_count": null,
      "outputs": []
    },
    {
      "cell_type": "markdown",
      "source": [
        "---\n",
        "### 畳み込みVAEの実験"
      ],
      "metadata": {
        "id": "HRP-KBR8LkPc"
      }
    },
    {
      "cell_type": "markdown",
      "source": [
        "#### ネットワーク構造と学習等のための関数の定義"
      ],
      "metadata": {
        "id": "rf-WJhr3LrLI"
      }
    },
    {
      "cell_type": "markdown",
      "source": [
        "このセクションでは，畳み込みAEを VAE に改造したニューラルネットでオートエンコーダを構成する．\n",
        "ここではこのようなオートエンコーダを畳み込みVAEと呼ぶ．\n",
        "ネットワークの構造は，ほぼ畳み込みAEと同じである．\n"
      ],
      "metadata": {
        "id": "5WjteIdgLrLI"
      }
    },
    {
      "cell_type": "code",
      "source": [
        "### 畳み込み VAE\n",
        "\n",
        "# Encoder\n",
        "class ConvVAE_Encoder(nn.Module):\n",
        "\n",
        "    def __init__(self, dimZ):\n",
        "        super(ConvVAE_Encoder, self).__init__()\n",
        "        self.encoder = nn.Sequential(\n",
        "            # conv1 (1, 28, 28) => (16, 14, 14)\n",
        "            nn.Conv2d(1, 16, kernel_size=3, stride=2, padding=1),\n",
        "            nn.LeakyReLU(),\n",
        "            # conv2 (16, 14, 14) => (32, 7, 7)\n",
        "            nn.Conv2d(16, 32, kernel_size=3, stride=2, padding=1),\n",
        "            nn.LeakyReLU(),\n",
        "        )\n",
        "        self.fc1 = nn.Sequential(\n",
        "            # flatten (32, 7, 7) => 1568\n",
        "            nn.Flatten(),\n",
        "            # fc1 1568 => 200\n",
        "            nn.Linear(32*7*7, 200),\n",
        "            nn.LeakyReLU(0.1),\n",
        "        )\n",
        "        # fc2 200 => dimZ (mu, logvar)\n",
        "        self.fc2_mu    = nn.Linear(200, dimZ)\n",
        "        self.fc2_logvar = nn.Linear(200, dimZ)\n",
        "\n",
        "    def forward(self, X):\n",
        "        Y = self.encoder(X)\n",
        "        Y = self.fc1(Y)\n",
        "        mu    = self.fc2_mu(Y)\n",
        "        logvar = self.fc2_logvar(Y)\n",
        "        sigma = torch.exp(0.5*logvar)\n",
        "        return mu, sigma\n",
        "\n",
        "\n",
        "# Decoder\n",
        "class ConvVAE_Decoder(nn.Module):\n",
        "\n",
        "    def __init__(self, dimZ):\n",
        "        super(ConvVAE_Decoder, self).__init__()\n",
        "        self.fc = nn.Sequential(\n",
        "            # fc1 dimZ => 200\n",
        "            nn.Linear(dimZ, 200),\n",
        "            nn.LeakyReLU(),\n",
        "            # fc2 200 => 1568\n",
        "            nn.Linear(200, 32*7*7),\n",
        "            nn.LeakyReLU(),\n",
        "            # unflatten 1568 => (32, 7, 7)\n",
        "            nn.Unflatten(-1, (32, 7, 7)),\n",
        "        )\n",
        "        self.decoder = nn.Sequential(\n",
        "            # convT1 (32, 7, 7) => (16, 14, 14)\n",
        "            nn.ConvTranspose2d(32, 16, kernel_size=3, stride=2, padding=1, output_padding=1),\n",
        "            nn.LeakyReLU(),\n",
        "            # convT2 (16, 14, 14) => (1, 28, 28)\n",
        "            nn.ConvTranspose2d(16, 1, kernel_size=3, stride=2, padding=1, output_padding=1),\n",
        "        )\n",
        "\n",
        "    def forward(self, Z):\n",
        "        Y = self.fc(Z)\n",
        "        Xt = self.decoder(Y)\n",
        "        return Xt\n",
        "\n",
        "\n",
        "### reparameterization trick\n",
        "#\n",
        "def reparameterization(mu, sigma):\n",
        "    eps = torch.randn_like(sigma)\n",
        "    Z = mu + sigma * eps\n",
        "    return Z\n",
        "\n",
        "\n",
        "# ConvVAE\n",
        "class ConvVAE(nn.Module):\n",
        "\n",
        "    def __init__(self, dimZ):\n",
        "        super(ConvVAE, self).__init__()\n",
        "        self.encoder = ConvVAE_Encoder(dimZ)\n",
        "        self.decoder = ConvVAE_Decoder(dimZ)\n",
        "\n",
        "    def forward(self, X):\n",
        "        mu, sigma = self.encoder(X)\n",
        "        Z = reparameterization(mu, sigma)\n",
        "        Xt = self.decoder(Z)\n",
        "        return Xt, mu, sigma\n",
        "\n",
        "    def reconstruct(self, X):\n",
        "        mu, sigma = self.encoder(X)\n",
        "        Xt = self.decoder(mu)\n",
        "        return Xt\n",
        "\n",
        "    def loss(self, Xt, X, mu, sigma):\n",
        "        SQE = F.mse_loss(Xt, X, reduction='sum')\n",
        "        sigma2 = sigma**2\n",
        "        KLD = - torch.sum(1 + torch.log(sigma2) - mu**2 - sigma2)\n",
        "        return SQE, KLD"
      ],
      "metadata": {
        "id": "Ez_Rl6MIy6Q0"
      },
      "execution_count": null,
      "outputs": []
    },
    {
      "cell_type": "code",
      "source": [
        "# 学習の関数\n",
        "#\n",
        "def trainVAE(model, optimizer, dl):\n",
        "    loss_sum = sqe_sum = kld_sum = 0.0\n",
        "    n = 0\n",
        "    for i, X in enumerate(dl):\n",
        "        X = X.to(device)\n",
        "        Xt, mu, sigma = model(X) # 一つのバッチ X を入力して出力を計算\n",
        "        sqe, kld = model.loss(Xt, X, mu, sigma) # 損失関数の値を計算\n",
        "        loss = sqe + kld\n",
        "        optimizer.zero_grad()   # 勾配をリセット\n",
        "        loss.backward()         # 誤差逆伝播でパラメータ更新量を計算\n",
        "        optimizer.step()         # パラメータを更新\n",
        "        n += len(X)\n",
        "        loss_sum += loss.item()  # 損失関数の値\n",
        "        sqe_sum += sqe.item()\n",
        "        kld_sum += kld.item()\n",
        "\n",
        "    return np.array([loss_sum, sqe_sum, kld_sum])/n\n",
        "\n",
        "\n",
        "# 損失関数の値を求める関数\n",
        "#\n",
        "@torch.no_grad()\n",
        "def evaluateVAE(model, dl):\n",
        "    loss_sum = sqe_sum = kld_sum = 0.0\n",
        "    n = 0\n",
        "    for i, X in enumerate(dl):\n",
        "        X = X.to(device)\n",
        "        Xt, mu, sigma = model(X)  # 一つのバッチ X を入力して出力を計算\n",
        "        sqe, kld = model.loss(Xt, X, mu, sigma) # 損失関数の値を計算\n",
        "        loss = sqe + kld\n",
        "        n += len(X)\n",
        "        loss_sum += loss.item() # 損失関数の値\n",
        "        sqe_sum += sqe.item()\n",
        "        kld_sum += kld.item()\n",
        "\n",
        "    return np.array([loss_sum, sqe_sum, kld_sum])/n\n"
      ],
      "metadata": {
        "id": "mc1PKsU3zYWW"
      },
      "execution_count": null,
      "outputs": []
    },
    {
      "cell_type": "markdown",
      "source": [
        "#### 学習"
      ],
      "metadata": {
        "id": "tAOn39UsMkUu"
      }
    },
    {
      "cell_type": "markdown",
      "source": [
        "次のセルは，`H = 30` の畳み込みVAEの学習を行う．"
      ],
      "metadata": {
        "id": "wfPmhvjIMkUu"
      }
    },
    {
      "cell_type": "code",
      "source": [
        "# データ読み込みの仕組みを作る\n",
        "ds2L = MMDataset(XL2, flatten=False)\n",
        "ds2T = MMDataset(XT2, flatten=False)\n",
        "dl2L = DataLoader(ds2L, batch_size=100, shuffle=True)\n",
        "dl2T = DataLoader(ds2T, batch_size=100, shuffle=False)\n",
        "\n",
        "# ネットワークモデルの定義\n",
        "H = 30\n",
        "cvae = ConvVAE(H).to(device)\n",
        "\n",
        "# パラメータ最適化器の設定\n",
        "optimizer = torch.optim.Adam(cvae.parameters(), lr=1e-3)\n",
        "\n",
        "# 学習の繰り返し回数\n",
        "nepoch = 100\n",
        "\n",
        "# ネットワークの構造を表示\n",
        "torchsummary.summary(cvae, (1, 28, 28))\n",
        "\n",
        "# 学習\n",
        "L = []\n",
        "print(f'学習データ数: {len(dsL)}  テストデータ数: {len(dsT)}')\n",
        "print()\n",
        "print('# epoch  lossL  lossT  sqeL  sqeT  kldL  kldT')\n",
        "for t in range(1, nepoch+1):\n",
        "    rv = trainVAE(cvae, optimizer, dl2L) / D\n",
        "    lossL, sqeL, kldL = rv\n",
        "    rv = evaluateVAE(cvae, dl2T) / D\n",
        "    lossT, sqeT, kldT = rv\n",
        "    L.append([t, lossL, lossT, sqeL, sqeT, kldL, kldT])\n",
        "    if (t < 10) or (t % 10 == 0):\n",
        "        print(f'{t}   {lossL:.5f}   {lossT:.5f}   {sqeL:.5f}   {sqeT:.5f}   {kldL:.5f}   {kldT:.5f}')\n",
        "\n",
        "# 学習曲線の表示\n",
        "data = np.array(L)\n",
        "fig, ax = plt.subplots(1, 1)\n",
        "ax.plot(data[:, 0], data[:, 1], '.-', label='loss for training data')\n",
        "ax.plot(data[:, 0], data[:, 2], '.-', label='loss for test data')\n",
        "ax.axhline(0.0, color='gray')\n",
        "ax.legend()\n",
        "ax.set_title(f'loss')\n",
        "plt.show()\n"
      ],
      "metadata": {
        "id": "pnSXIfr5zv2I"
      },
      "execution_count": null,
      "outputs": []
    },
    {
      "cell_type": "markdown",
      "source": [
        "#### 再構成"
      ],
      "metadata": {
        "id": "MY5136QrM1Po"
      }
    },
    {
      "cell_type": "code",
      "source": [
        "# 学習後の再構成誤差\n",
        "_, mseL, _ = evaluateVAE(cvae, dl2L) / D\n",
        "_, mseT, _ = evaluateVAE(cvae, dl2T) / D\n",
        "\n",
        "print(f'H = {H}')\n",
        "print(f'reconstruction error (L) = {mseL:.6f}')\n",
        "print(f'reconstruction error (T) = {mseT:.6f}')\n",
        "\n",
        "# テストデータ1バッチ分の再構成\n",
        "for i, X in enumerate(dl2T):\n",
        "    X = X.to(device)\n",
        "    Xt = cvae.reconstruct(X)\n",
        "    break\n",
        "XX    = X.view(-1, D).to('cpu').detach().numpy() + Xm\n",
        "XXrec = Xt.view(-1, D).to('cpu').detach().numpy() + Xm\n",
        "\n",
        "# 再構成したテストデータの最初の10枚を可視化\n",
        "ncol = 15\n",
        "fig, ax = plt.subplots(2, ncol, figsize=(8.0, 8.0/ncol*2.5))\n",
        "\n",
        "# 元画像\n",
        "for j in range(ncol):\n",
        "    img = XX[j, ::].reshape((28, 28))\n",
        "    ax[0, j].imshow(img, cmap=plt.cm.gray, vmin=0, vmax=1)\n",
        "    ax[0, j].axis('off')\n",
        "\n",
        "# 再構成した画像\n",
        "for j in range(ncol):\n",
        "    img = XXrec[j, ::].reshape((28, 28))\n",
        "    ax[1, j].imshow(img, cmap=plt.cm.gray, vmin=0, vmax=1)\n",
        "    ax[1, j].axis('off')\n",
        "\n",
        "fig.tight_layout()\n",
        "plt.show()"
      ],
      "metadata": {
        "id": "ARO_IhMz3wUd"
      },
      "execution_count": null,
      "outputs": []
    },
    {
      "cell_type": "markdown",
      "source": [
        "#### 生成\n"
      ],
      "metadata": {
        "id": "A870H8SINBjH"
      }
    },
    {
      "cell_type": "markdown",
      "source": [
        "VAEの潜在変数は標準正規分布 $N(\\mathbf{z}; \\mathbf{0}, I)$ に従うと仮定できるので，標準正規分布に従う乱数をサンプリングし，デコーダに入力して画像を生成する．\n"
      ],
      "metadata": {
        "id": "CujJz95HNGzJ"
      }
    },
    {
      "cell_type": "code",
      "source": [
        "# 生成\n",
        "Zgen = np.random.normal(size=50*H).reshape((50, H))\n",
        "Zgen = torch.tensor(Zgen.astype(np.float32)).to(device)\n",
        "XXrec = cvae.decoder(Zgen)\n",
        "XXrec = XXrec.view(-1, D).cpu().detach().numpy() + Xm\n",
        "\n",
        "# 生成した画像50枚を可視化\n",
        "nrow, ncol = 5, 10\n",
        "fig, ax = plt.subplots(nrow, ncol, figsize=(8.0, 8.0/ncol*nrow))\n",
        "for i in range(nrow):\n",
        "    for j in range(ncol):\n",
        "        img = XXrec[i*ncol + j, ::].reshape((28, 28))\n",
        "        ax[i, j].imshow(img, cmap=plt.cm.gray, vmin=0, vmax=1)\n",
        "        ax[i, j].axis('off')\n",
        "\n",
        "fig.tight_layout()\n",
        "plt.show()"
      ],
      "metadata": {
        "id": "4QKPdFnI43tD"
      },
      "execution_count": null,
      "outputs": []
    },
    {
      "cell_type": "markdown",
      "source": [
        "---\n",
        "## 問題\n",
        "---"
      ],
      "metadata": {
        "id": "iRdFgkYkPTPh"
      }
    },
    {
      "cell_type": "markdown",
      "source": [
        "#### 問題1\n",
        "\n",
        "上記の実験の結果を見て，PCA, 全結合型AE, 畳み込みAE, 畳み込みVAE の再構成誤差および再構成画像の質について比較・考察しなさい．\n",
        "本来，ニューラルネットの学習にはパラメータの初期値その他の選択によるランダム性があるが，ここではそれぞれの手法について1回ずつの結果の比較でよい．\n",
        "また，再構成画像の質については，主観的な評価でよい．"
      ],
      "metadata": {
        "id": "TzsdOdl3PXPt"
      }
    },
    {
      "cell_type": "markdown",
      "source": [],
      "metadata": {
        "id": "018g-dZYSQ0s"
      }
    },
    {
      "cell_type": "markdown",
      "source": [
        "#### 問題2\n",
        "\n",
        "PCA, 全結合型AE, 畳み込みAE, 畳み込みVAE の生成画像の質について比較・考察しなさい．\n",
        "主観的な評価でよい．"
      ],
      "metadata": {
        "id": "mFhJa3hOPY7-"
      }
    },
    {
      "cell_type": "markdown",
      "source": [],
      "metadata": {
        "id": "_0RrdiYXSRdF"
      }
    },
    {
      "cell_type": "markdown",
      "source": [
        "#### 問題3\n",
        "\n",
        "畳み込みニューラルネットの応用事例について調べて論述しなさい．"
      ],
      "metadata": {
        "id": "SMffyWloPayR"
      }
    },
    {
      "cell_type": "markdown",
      "source": [],
      "metadata": {
        "id": "HlVYn_35STyr"
      }
    },
    {
      "cell_type": "markdown",
      "source": [
        "#### 問題4\n",
        "\n",
        "VAEのようなニューラルネットを用いる生成モデルの応用事例について調べて論述しなさい．"
      ],
      "metadata": {
        "id": "k9BwkvqrPcW_"
      }
    },
    {
      "cell_type": "markdown",
      "source": [],
      "metadata": {
        "id": "JObhTiyxSXNv"
      }
    },
    {
      "cell_type": "code",
      "source": [],
      "metadata": {
        "id": "2EC151b3FzJh"
      },
      "execution_count": null,
      "outputs": []
    }
  ],
  "metadata": {
    "colab": {
      "provenance": [],
      "toc_visible": true,
      "include_colab_link": true
    },
    "kernelspec": {
      "display_name": "Python 3",
      "name": "python3"
    },
    "language_info": {
      "codemirror_mode": {
        "name": "ipython",
        "version": 3
      },
      "file_extension": ".py",
      "mimetype": "text/x-python",
      "name": "python",
      "nbconvert_exporter": "python",
      "pygments_lexer": "ipython3",
      "version": "3.9.7"
    }
  },
  "nbformat": 4,
  "nbformat_minor": 0
}